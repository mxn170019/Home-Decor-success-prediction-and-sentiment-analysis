{
 "cells": [
  {
   "cell_type": "code",
   "execution_count": 1,
   "metadata": {},
   "outputs": [],
   "source": [
    "import pandas as pd\n",
    "import numpy as np\n",
    "\n",
    "import seaborn as sns\n",
    "sns.set(style='darkgrid')\n",
    "\n",
    "\n",
    "\n",
    "import matplotlib.pyplot as plt\n",
    "%matplotlib inline\n",
    "\n",
    "import gc\n",
    "\n",
    "import warnings\n",
    "warnings.filterwarnings('ignore')\n",
    "\n",
    "import json\n",
    "from pandas.io.json import json_normalize\n",
    "\n",
    "#!pip install nltk\n",
    "import nltk"
   ]
  },
  {
   "cell_type": "code",
   "execution_count": 11,
   "metadata": {},
   "outputs": [],
   "source": [
    "plt.rcParams[\"patch.force_edgecolor\"] = False"
   ]
  },
  {
   "cell_type": "code",
   "execution_count": 2,
   "metadata": {},
   "outputs": [],
   "source": [
    "#!pip install progressbar\n",
    "#from progressbar import ProgressBar"
   ]
  },
  {
   "cell_type": "code",
   "execution_count": 3,
   "metadata": {},
   "outputs": [],
   "source": [
    "## reviews from some Home Decor retail company\n",
    "with open(\"turnto-ugc.js\",encoding=\"utf8\") as datafile:\n",
    "    data = json.load(datafile)"
   ]
  },
  {
   "cell_type": "code",
   "execution_count": 4,
   "metadata": {},
   "outputs": [
    {
     "data": {
      "text/plain": [
       "dict"
      ]
     },
     "execution_count": 4,
     "metadata": {},
     "output_type": "execute_result"
    }
   ],
   "source": [
    "type(data)"
   ]
  },
  {
   "cell_type": "code",
   "execution_count": 5,
   "metadata": {},
   "outputs": [
    {
     "data": {
      "text/plain": [
       "dict_keys(['exportStart', 'site', 'dateCreated', 'questions', 'comments', 'reviews', 'exportEnd'])"
      ]
     },
     "execution_count": 5,
     "metadata": {},
     "output_type": "execute_result"
    }
   ],
   "source": [
    "data.keys()\n",
    "#pd.DataFrame.from_dict(data,orient='index').transpose()"
   ]
  },
  {
   "cell_type": "code",
   "execution_count": 6,
   "metadata": {},
   "outputs": [
    {
     "name": "stdout",
     "output_type": "stream",
     "text": [
      "exportStart : <class 'str'> : 8\n",
      "site : <class 'str'> : 6\n",
      "dateCreated : <class 'str'> : 25\n",
      "questions : <class 'list'> : 0\n",
      "comments : <class 'list'> : 54894\n",
      "reviews : <class 'list'> : 147512\n",
      "exportEnd : <class 'str'> : 8\n"
     ]
    }
   ],
   "source": [
    "for key in data.keys():\n",
    "    print(key,':',type(data[key]),':',len(data[key]))"
   ]
  },
  {
   "cell_type": "code",
   "execution_count": 17,
   "metadata": {},
   "outputs": [
    {
     "name": "stdout",
     "output_type": "stream",
     "text": [
      "id : <class 'int'>\n",
      "user : <class 'dict'>\n",
      "item : <class 'dict'>\n",
      "text : <class 'str'>\n",
      "tags : <class 'NoneType'>\n",
      "dateTime : <class 'str'>\n"
     ]
    }
   ],
   "source": [
    "for key in data['comments'][0].keys():\n",
    "    print(key,':',type(data['comments'][0][key]))\n"
   ]
  },
  {
   "cell_type": "code",
   "execution_count": null,
   "metadata": {},
   "outputs": [],
   "source": [
    "# run line by line to understand\n",
    "\n",
    "# df_comments = pd.DataFrame(data['comments'])\n",
    "# df_comments.info()\n",
    "# df_items = df_comments.item\n",
    "# df_items[0]\n",
    "# comments_item_df = pd.DataFrame()\n",
    "\n",
    "# for i in df_items.keys():\n",
    "#     x1 = pd.DataFrame.from_dict(df_items[i],orient='index').transpose()\n",
    "#     comments_item_df = comments_item_df.append(x1)\n"
   ]
  },
  {
   "cell_type": "code",
   "execution_count": 18,
   "metadata": {},
   "outputs": [
    {
     "name": "stdout",
     "output_type": "stream",
     "text": [
      "id : <class 'int'>\n",
      "user : <class 'dict'>\n",
      "item : <class 'dict'>\n",
      "title : <class 'str'>\n",
      "text : <class 'str'>\n",
      "rating : <class 'int'>\n",
      "upVotes : <class 'int'>\n",
      "downVotes : <class 'int'>\n",
      "locale : <class 'str'>\n",
      "published : <class 'str'>\n",
      "publishedDate : <class 'str'>\n",
      "tags : <class 'NoneType'>\n",
      "dateTime : <class 'str'>\n",
      "customDimensions : <class 'list'>\n",
      "incentivized : <class 'bool'>\n",
      "media : <class 'list'>\n"
     ]
    }
   ],
   "source": [
    "for key in data['reviews'][0].keys():\n",
    "    print(key,':',type(data['reviews'][0][key]))"
   ]
  },
  {
   "cell_type": "code",
   "execution_count": 30,
   "metadata": {
    "scrolled": true
   },
   "outputs": [
    {
     "data": {
      "text/plain": [
       "{'id': 13913327,\n",
       " 'user': {'firstName': 'Yona', 'lastName': 'Rozen', 'nickName': None},\n",
       " 'item': {'sku': '3761390',\n",
       "  'brand': 'Pier 1',\n",
       "  'title': 'Tall White Knob Texture Vase',\n",
       "  'questionCount': 0,\n",
       "  'answerCount': 0,\n",
       "  'reviewCount': 3,\n",
       "  'commentCount': 3,\n",
       "  'averageRating': 5},\n",
       " 'text': \"price and don't need a lot of flowers to fill\",\n",
       " 'tags': None,\n",
       " 'dateTime': '2019-02-24T16:50:23+0000'}"
      ]
     },
     "execution_count": 30,
     "metadata": {},
     "output_type": "execute_result"
    }
   ],
   "source": [
    "data['comments'][0]"
   ]
  },
  {
   "cell_type": "code",
   "execution_count": 31,
   "metadata": {},
   "outputs": [
    {
     "name": "stderr",
     "output_type": "stream",
     "text": [
      "100% |########################################################################|\n"
     ]
    }
   ],
   "source": [
    "comments_df = pd.DataFrame()\n",
    "\n",
    "SKU = []\n",
    "review_count = []\n",
    "comment_count = []\n",
    "avg_rating = []\n",
    "title = []\n",
    "text = []\n",
    "\n",
    "from progressbar import ProgressBar\n",
    "pbar = ProgressBar()\n",
    "\n",
    "for i in pbar(data['comments']):\n",
    "    SKU.append(i['item']['sku'])\n",
    "    review_count.append(i['item']['reviewCount'])\n",
    "    comment_count.append(i['item']['commentCount'])\n",
    "    avg_rating.append(i['item']['averageRating'])\n",
    "    title.append(i['item']['title'])\n",
    "    text.append(i['text'])\n",
    "\n",
    "comments_df['SKU'] = SKU\n",
    "comments_df['review_count'] = review_count\n",
    "comments_df['comment_count'] = comment_count\n",
    "comments_df['avg_rating'] = avg_rating\n",
    "comments_df['title'] = title\n",
    "comments_df['text'] = text\n",
    "\n"
   ]
  },
  {
   "cell_type": "code",
   "execution_count": 32,
   "metadata": {},
   "outputs": [
    {
     "data": {
      "text/html": [
       "<div>\n",
       "<style scoped>\n",
       "    .dataframe tbody tr th:only-of-type {\n",
       "        vertical-align: middle;\n",
       "    }\n",
       "\n",
       "    .dataframe tbody tr th {\n",
       "        vertical-align: top;\n",
       "    }\n",
       "\n",
       "    .dataframe thead th {\n",
       "        text-align: right;\n",
       "    }\n",
       "</style>\n",
       "<table border=\"1\" class=\"dataframe\">\n",
       "  <thead>\n",
       "    <tr style=\"text-align: right;\">\n",
       "      <th></th>\n",
       "      <th>SKU</th>\n",
       "      <th>review_count</th>\n",
       "      <th>comment_count</th>\n",
       "      <th>avg_rating</th>\n",
       "      <th>title</th>\n",
       "      <th>text</th>\n",
       "    </tr>\n",
       "  </thead>\n",
       "  <tbody>\n",
       "    <tr>\n",
       "      <th>0</th>\n",
       "      <td>3761390</td>\n",
       "      <td>3</td>\n",
       "      <td>3</td>\n",
       "      <td>5</td>\n",
       "      <td>Tall White Knob Texture Vase</td>\n",
       "      <td>price and don't need a lot of flowers to fill</td>\n",
       "    </tr>\n",
       "    <tr>\n",
       "      <th>1</th>\n",
       "      <td>4042327</td>\n",
       "      <td>0</td>\n",
       "      <td>1</td>\n",
       "      <td>0</td>\n",
       "      <td>Rustic Farmhouse 70\" Rustic Oak Wood TV Stand ...</td>\n",
       "      <td>size is what I wanted</td>\n",
       "    </tr>\n",
       "    <tr>\n",
       "      <th>2</th>\n",
       "      <td>3785921</td>\n",
       "      <td>0</td>\n",
       "      <td>5</td>\n",
       "      <td>0</td>\n",
       "      <td>Capiz Jeweled Easter Eggs Set</td>\n",
       "      <td>Glitz</td>\n",
       "    </tr>\n",
       "    <tr>\n",
       "      <th>3</th>\n",
       "      <td>3762758</td>\n",
       "      <td>1</td>\n",
       "      <td>4</td>\n",
       "      <td>5</td>\n",
       "      <td>Angelo &amp; Amelia the Natural Bunnies in Canoe</td>\n",
       "      <td>Perfect for a lake house.</td>\n",
       "    </tr>\n",
       "    <tr>\n",
       "      <th>4</th>\n",
       "      <td>2987309</td>\n",
       "      <td>5</td>\n",
       "      <td>7</td>\n",
       "      <td>3.6</td>\n",
       "      <td>Lyndon Red Pepper Armchair</td>\n",
       "      <td>Comfort</td>\n",
       "    </tr>\n",
       "  </tbody>\n",
       "</table>\n",
       "</div>"
      ],
      "text/plain": [
       "       SKU  review_count  comment_count avg_rating  \\\n",
       "0  3761390             3              3          5   \n",
       "1  4042327             0              1          0   \n",
       "2  3785921             0              5          0   \n",
       "3  3762758             1              4          5   \n",
       "4  2987309             5              7        3.6   \n",
       "\n",
       "                                               title  \\\n",
       "0                       Tall White Knob Texture Vase   \n",
       "1  Rustic Farmhouse 70\" Rustic Oak Wood TV Stand ...   \n",
       "2                      Capiz Jeweled Easter Eggs Set   \n",
       "3       Angelo & Amelia the Natural Bunnies in Canoe   \n",
       "4                         Lyndon Red Pepper Armchair   \n",
       "\n",
       "                                            text  \n",
       "0  price and don't need a lot of flowers to fill  \n",
       "1                          size is what I wanted  \n",
       "2                                          Glitz  \n",
       "3                      Perfect for a lake house.  \n",
       "4                                        Comfort  "
      ]
     },
     "execution_count": 32,
     "metadata": {},
     "output_type": "execute_result"
    }
   ],
   "source": [
    "#comments_df.items\n",
    "comments_df.head()"
   ]
  },
  {
   "cell_type": "code",
   "execution_count": 33,
   "metadata": {},
   "outputs": [],
   "source": [
    "comments_df.to_csv('comments_cleaned.csv')"
   ]
  },
  {
   "cell_type": "code",
   "execution_count": 34,
   "metadata": {},
   "outputs": [
    {
     "data": {
      "text/plain": [
       "{'id': 160550,\n",
       " 'user': {'firstName': 'Cristi',\n",
       "  'lastName': 'Wheelan',\n",
       "  'nickName': None,\n",
       "  'ageRange': None,\n",
       "  'location': {'city': None, 'state': None, 'country': None},\n",
       "  'customProfileDimensions': []},\n",
       " 'item': {'sku': '3288481',\n",
       "  'brand': 'Pier 1',\n",
       "  'title': 'Embossed Galvanized 39\" Round Mirror',\n",
       "  'questionCount': 0,\n",
       "  'answerCount': 0,\n",
       "  'reviewCount': 4,\n",
       "  'commentCount': 0,\n",
       "  'averageRating': 5},\n",
       " 'title': 'Perfect touch',\n",
       " 'text': 'Love this mirror!!! Gave my wall just what it needed!!',\n",
       " 'rating': 5,\n",
       " 'upVotes': 0,\n",
       " 'downVotes': 0,\n",
       " 'locale': 'en_US',\n",
       " 'published': 'true',\n",
       " 'publishedDate': '2019-02-24T16:54:53+0000',\n",
       " 'tags': None,\n",
       " 'dateTime': '2019-02-24T11:54:54+0000',\n",
       " 'customDimensions': [],\n",
       " 'incentivized': False,\n",
       " 'media': []}"
      ]
     },
     "execution_count": 34,
     "metadata": {},
     "output_type": "execute_result"
    }
   ],
   "source": [
    "data['reviews'][0]"
   ]
  },
  {
   "cell_type": "code",
   "execution_count": 35,
   "metadata": {},
   "outputs": [
    {
     "name": "stderr",
     "output_type": "stream",
     "text": [
      "100% |########################################################################|\n"
     ]
    }
   ],
   "source": [
    "reviews_df = pd.DataFrame()\n",
    "\n",
    "SKU = []\n",
    "review_count = []\n",
    "comment_count = []\n",
    "avg_rating = []\n",
    "title = []\n",
    "text = []\n",
    "rating = []\n",
    "tit = []\n",
    "\n",
    "from progressbar import ProgressBar\n",
    "pbar = ProgressBar()\n",
    "\n",
    "for i in pbar(data['reviews']):\n",
    "    SKU.append(i['item']['sku'])\n",
    "    review_count.append(i['item']['reviewCount'])\n",
    "    comment_count.append(i['item']['commentCount'])\n",
    "    avg_rating.append(i['item']['averageRating'])\n",
    "    title.append(i['item']['title'])\n",
    "    text.append(i['text'])\n",
    "    rating.append(i['rating'])\n",
    "    tit.append(i['title'])\n",
    "\n",
    "reviews_df['SKU'] = SKU\n",
    "reviews_df['review_count'] = review_count\n",
    "reviews_df['comment_count'] = comment_count\n",
    "reviews_df['avg_rating'] = avg_rating\n",
    "reviews_df['title'] = title\n",
    "reviews_df['text'] = text\n",
    "reviews_df['rating'] = rating\n",
    "reviews_df['tit'] = tit"
   ]
  },
  {
   "cell_type": "code",
   "execution_count": 36,
   "metadata": {},
   "outputs": [
    {
     "data": {
      "text/html": [
       "<div>\n",
       "<style scoped>\n",
       "    .dataframe tbody tr th:only-of-type {\n",
       "        vertical-align: middle;\n",
       "    }\n",
       "\n",
       "    .dataframe tbody tr th {\n",
       "        vertical-align: top;\n",
       "    }\n",
       "\n",
       "    .dataframe thead th {\n",
       "        text-align: right;\n",
       "    }\n",
       "</style>\n",
       "<table border=\"1\" class=\"dataframe\">\n",
       "  <thead>\n",
       "    <tr style=\"text-align: right;\">\n",
       "      <th></th>\n",
       "      <th>SKU</th>\n",
       "      <th>review_count</th>\n",
       "      <th>comment_count</th>\n",
       "      <th>avg_rating</th>\n",
       "      <th>title</th>\n",
       "      <th>text</th>\n",
       "      <th>rating</th>\n",
       "      <th>tit</th>\n",
       "    </tr>\n",
       "  </thead>\n",
       "  <tbody>\n",
       "    <tr>\n",
       "      <th>0</th>\n",
       "      <td>3288481</td>\n",
       "      <td>4</td>\n",
       "      <td>0</td>\n",
       "      <td>5</td>\n",
       "      <td>Embossed Galvanized 39\" Round Mirror</td>\n",
       "      <td>Love this mirror!!! Gave my wall just what it ...</td>\n",
       "      <td>5</td>\n",
       "      <td>Perfect touch</td>\n",
       "    </tr>\n",
       "    <tr>\n",
       "      <th>1</th>\n",
       "      <td>3266362</td>\n",
       "      <td>22</td>\n",
       "      <td>0</td>\n",
       "      <td>4.82</td>\n",
       "      <td>Sea Life Critter Dinner Bowl</td>\n",
       "      <td>I love this bowl!!  I bought 2 and hope when I...</td>\n",
       "      <td>5</td>\n",
       "      <td>None</td>\n",
       "    </tr>\n",
       "    <tr>\n",
       "      <th>2</th>\n",
       "      <td>3805909</td>\n",
       "      <td>1</td>\n",
       "      <td>1</td>\n",
       "      <td>5</td>\n",
       "      <td>Wooden Hurricane Candle Holder</td>\n",
       "      <td>Looks lovely in my home. Love the wood base.</td>\n",
       "      <td>5</td>\n",
       "      <td>Unique</td>\n",
       "    </tr>\n",
       "    <tr>\n",
       "      <th>3</th>\n",
       "      <td>2904277</td>\n",
       "      <td>94</td>\n",
       "      <td>22</td>\n",
       "      <td>4.86</td>\n",
       "      <td>Helena Blue Mosaic Table Lamp</td>\n",
       "      <td>Bought this lamp for my family room and I abso...</td>\n",
       "      <td>5</td>\n",
       "      <td>Wonderful lamp</td>\n",
       "    </tr>\n",
       "    <tr>\n",
       "      <th>4</th>\n",
       "      <td>2257624</td>\n",
       "      <td>38</td>\n",
       "      <td>19</td>\n",
       "      <td>5</td>\n",
       "      <td>Wooden Giraffe with Metallic Spots</td>\n",
       "      <td>A strikingly fun piece that adds depth and dim...</td>\n",
       "      <td>5</td>\n",
       "      <td>Tall Whimsy!</td>\n",
       "    </tr>\n",
       "  </tbody>\n",
       "</table>\n",
       "</div>"
      ],
      "text/plain": [
       "       SKU  review_count  comment_count avg_rating  \\\n",
       "0  3288481             4              0          5   \n",
       "1  3266362            22              0       4.82   \n",
       "2  3805909             1              1          5   \n",
       "3  2904277            94             22       4.86   \n",
       "4  2257624            38             19          5   \n",
       "\n",
       "                                  title  \\\n",
       "0  Embossed Galvanized 39\" Round Mirror   \n",
       "1          Sea Life Critter Dinner Bowl   \n",
       "2        Wooden Hurricane Candle Holder   \n",
       "3         Helena Blue Mosaic Table Lamp   \n",
       "4    Wooden Giraffe with Metallic Spots   \n",
       "\n",
       "                                                text  rating             tit  \n",
       "0  Love this mirror!!! Gave my wall just what it ...       5   Perfect touch  \n",
       "1  I love this bowl!!  I bought 2 and hope when I...       5            None  \n",
       "2       Looks lovely in my home. Love the wood base.       5          Unique  \n",
       "3  Bought this lamp for my family room and I abso...       5  Wonderful lamp  \n",
       "4  A strikingly fun piece that adds depth and dim...       5    Tall Whimsy!  "
      ]
     },
     "execution_count": 36,
     "metadata": {},
     "output_type": "execute_result"
    }
   ],
   "source": [
    "reviews_df.head()"
   ]
  },
  {
   "cell_type": "code",
   "execution_count": 37,
   "metadata": {},
   "outputs": [],
   "source": [
    "reviews_df.to_csv('reviews_cleaned.csv')"
   ]
  },
  {
   "cell_type": "code",
   "execution_count": 39,
   "metadata": {},
   "outputs": [],
   "source": [
    "## Importing above saved CSV file"
   ]
  },
  {
   "cell_type": "code",
   "execution_count": 2,
   "metadata": {},
   "outputs": [
    {
     "data": {
      "text/html": [
       "<div>\n",
       "<style scoped>\n",
       "    .dataframe tbody tr th:only-of-type {\n",
       "        vertical-align: middle;\n",
       "    }\n",
       "\n",
       "    .dataframe tbody tr th {\n",
       "        vertical-align: top;\n",
       "    }\n",
       "\n",
       "    .dataframe thead th {\n",
       "        text-align: right;\n",
       "    }\n",
       "</style>\n",
       "<table border=\"1\" class=\"dataframe\">\n",
       "  <thead>\n",
       "    <tr style=\"text-align: right;\">\n",
       "      <th></th>\n",
       "      <th>SKU</th>\n",
       "      <th>review_count</th>\n",
       "      <th>comment_count</th>\n",
       "      <th>avg_rating</th>\n",
       "      <th>title</th>\n",
       "      <th>text</th>\n",
       "      <th>rating</th>\n",
       "      <th>tit</th>\n",
       "    </tr>\n",
       "  </thead>\n",
       "  <tbody>\n",
       "    <tr>\n",
       "      <th>0</th>\n",
       "      <td>401684</td>\n",
       "      <td>23</td>\n",
       "      <td>5</td>\n",
       "      <td>5.0</td>\n",
       "      <td>Porcelain Ramekin - 3.6\"</td>\n",
       "      <td>Great for kids and dips and spices</td>\n",
       "      <td>5</td>\n",
       "      <td>NaN</td>\n",
       "    </tr>\n",
       "    <tr>\n",
       "      <th>1</th>\n",
       "      <td>401684</td>\n",
       "      <td>23</td>\n",
       "      <td>5</td>\n",
       "      <td>0.0</td>\n",
       "      <td>Porcelain Ramekin - 3.6\"</td>\n",
       "      <td>Love this sturdy and perfect sized ramekin.\\r\\...</td>\n",
       "      <td>5</td>\n",
       "      <td>Small and mighty</td>\n",
       "    </tr>\n",
       "    <tr>\n",
       "      <th>2</th>\n",
       "      <td>401684</td>\n",
       "      <td>23</td>\n",
       "      <td>5</td>\n",
       "      <td>0.0</td>\n",
       "      <td>Porcelain Ramekin - 3.6\"</td>\n",
       "      <td>exactly what I was looking for.</td>\n",
       "      <td>5</td>\n",
       "      <td>NaN</td>\n",
       "    </tr>\n",
       "    <tr>\n",
       "      <th>3</th>\n",
       "      <td>401684</td>\n",
       "      <td>23</td>\n",
       "      <td>5</td>\n",
       "      <td>0.0</td>\n",
       "      <td>Porcelain Ramekin - 3.6\"</td>\n",
       "      <td>I got these to make small servings of creme br...</td>\n",
       "      <td>5</td>\n",
       "      <td>Perfect</td>\n",
       "    </tr>\n",
       "    <tr>\n",
       "      <th>4</th>\n",
       "      <td>401684</td>\n",
       "      <td>23</td>\n",
       "      <td>5</td>\n",
       "      <td>0.0</td>\n",
       "      <td>Porcelain Ramekin - 3.6\"</td>\n",
       "      <td>Perfect size for decadent desserts!</td>\n",
       "      <td>5</td>\n",
       "      <td>NaN</td>\n",
       "    </tr>\n",
       "  </tbody>\n",
       "</table>\n",
       "</div>"
      ],
      "text/plain": [
       "      SKU  review_count  comment_count  avg_rating                     title  \\\n",
       "0  401684            23              5         5.0  Porcelain Ramekin - 3.6\"   \n",
       "1  401684            23              5         0.0  Porcelain Ramekin - 3.6\"   \n",
       "2  401684            23              5         0.0  Porcelain Ramekin - 3.6\"   \n",
       "3  401684            23              5         0.0  Porcelain Ramekin - 3.6\"   \n",
       "4  401684            23              5         0.0  Porcelain Ramekin - 3.6\"   \n",
       "\n",
       "                                                text  rating               tit  \n",
       "0                 Great for kids and dips and spices       5               NaN  \n",
       "1  Love this sturdy and perfect sized ramekin.\\r\\...       5  Small and mighty  \n",
       "2                    exactly what I was looking for.       5               NaN  \n",
       "3  I got these to make small servings of creme br...       5           Perfect  \n",
       "4                Perfect size for decadent desserts!       5               NaN  "
      ]
     },
     "execution_count": 2,
     "metadata": {},
     "output_type": "execute_result"
    }
   ],
   "source": [
    "review = pd.read_csv('reviews_cleaned.csv')\n",
    "review.head()"
   ]
  },
  {
   "cell_type": "code",
   "execution_count": 3,
   "metadata": {},
   "outputs": [
    {
     "data": {
      "text/html": [
       "<div>\n",
       "<style scoped>\n",
       "    .dataframe tbody tr th:only-of-type {\n",
       "        vertical-align: middle;\n",
       "    }\n",
       "\n",
       "    .dataframe tbody tr th {\n",
       "        vertical-align: top;\n",
       "    }\n",
       "\n",
       "    .dataframe thead th {\n",
       "        text-align: right;\n",
       "    }\n",
       "</style>\n",
       "<table border=\"1\" class=\"dataframe\">\n",
       "  <thead>\n",
       "    <tr style=\"text-align: right;\">\n",
       "      <th></th>\n",
       "      <th>SKU</th>\n",
       "      <th>review_count</th>\n",
       "      <th>comment_count</th>\n",
       "      <th>text</th>\n",
       "      <th>rating</th>\n",
       "      <th>tit</th>\n",
       "    </tr>\n",
       "  </thead>\n",
       "  <tbody>\n",
       "    <tr>\n",
       "      <th>0</th>\n",
       "      <td>401684</td>\n",
       "      <td>23</td>\n",
       "      <td>5</td>\n",
       "      <td>Great for kids and dips and spices</td>\n",
       "      <td>5</td>\n",
       "      <td>NaN</td>\n",
       "    </tr>\n",
       "    <tr>\n",
       "      <th>1</th>\n",
       "      <td>401684</td>\n",
       "      <td>23</td>\n",
       "      <td>5</td>\n",
       "      <td>Love this sturdy and perfect sized ramekin.\\r\\...</td>\n",
       "      <td>5</td>\n",
       "      <td>Small and mighty</td>\n",
       "    </tr>\n",
       "    <tr>\n",
       "      <th>2</th>\n",
       "      <td>401684</td>\n",
       "      <td>23</td>\n",
       "      <td>5</td>\n",
       "      <td>exactly what I was looking for.</td>\n",
       "      <td>5</td>\n",
       "      <td>NaN</td>\n",
       "    </tr>\n",
       "    <tr>\n",
       "      <th>3</th>\n",
       "      <td>401684</td>\n",
       "      <td>23</td>\n",
       "      <td>5</td>\n",
       "      <td>I got these to make small servings of creme br...</td>\n",
       "      <td>5</td>\n",
       "      <td>Perfect</td>\n",
       "    </tr>\n",
       "    <tr>\n",
       "      <th>4</th>\n",
       "      <td>401684</td>\n",
       "      <td>23</td>\n",
       "      <td>5</td>\n",
       "      <td>Perfect size for decadent desserts!</td>\n",
       "      <td>5</td>\n",
       "      <td>NaN</td>\n",
       "    </tr>\n",
       "  </tbody>\n",
       "</table>\n",
       "</div>"
      ],
      "text/plain": [
       "      SKU  review_count  comment_count  \\\n",
       "0  401684            23              5   \n",
       "1  401684            23              5   \n",
       "2  401684            23              5   \n",
       "3  401684            23              5   \n",
       "4  401684            23              5   \n",
       "\n",
       "                                                text  rating               tit  \n",
       "0                 Great for kids and dips and spices       5               NaN  \n",
       "1  Love this sturdy and perfect sized ramekin.\\r\\...       5  Small and mighty  \n",
       "2                    exactly what I was looking for.       5               NaN  \n",
       "3  I got these to make small servings of creme br...       5           Perfect  \n",
       "4                Perfect size for decadent desserts!       5               NaN  "
      ]
     },
     "execution_count": 3,
     "metadata": {},
     "output_type": "execute_result"
    }
   ],
   "source": [
    "review1 = review.drop(['title','avg_rating'], axis=1)\n",
    "#review1 = review.drop(['title','avg_rating','tit'], axis=1)\n",
    "review1.head()"
   ]
  },
  {
   "cell_type": "code",
   "execution_count": 4,
   "metadata": {},
   "outputs": [],
   "source": [
    "review1 = review1[['SKU', 'review_count', 'comment_count', 'rating', 'text','tit']]"
   ]
  },
  {
   "cell_type": "code",
   "execution_count": 5,
   "metadata": {},
   "outputs": [
    {
     "data": {
      "text/plain": [
       "SKU                  0\n",
       "review_count         0\n",
       "comment_count        0\n",
       "rating               0\n",
       "text                 1\n",
       "tit              51151\n",
       "dtype: int64"
      ]
     },
     "execution_count": 5,
     "metadata": {},
     "output_type": "execute_result"
    }
   ],
   "source": [
    "review1.isnull().sum()"
   ]
  },
  {
   "cell_type": "code",
   "execution_count": 6,
   "metadata": {},
   "outputs": [
    {
     "data": {
      "text/html": [
       "<div>\n",
       "<style scoped>\n",
       "    .dataframe tbody tr th:only-of-type {\n",
       "        vertical-align: middle;\n",
       "    }\n",
       "\n",
       "    .dataframe tbody tr th {\n",
       "        vertical-align: top;\n",
       "    }\n",
       "\n",
       "    .dataframe thead th {\n",
       "        text-align: right;\n",
       "    }\n",
       "</style>\n",
       "<table border=\"1\" class=\"dataframe\">\n",
       "  <thead>\n",
       "    <tr style=\"text-align: right;\">\n",
       "      <th></th>\n",
       "      <th>SKU</th>\n",
       "      <th>review_count</th>\n",
       "      <th>comment_count</th>\n",
       "      <th>rating</th>\n",
       "      <th>text</th>\n",
       "    </tr>\n",
       "  </thead>\n",
       "  <tbody>\n",
       "    <tr>\n",
       "      <th>0</th>\n",
       "      <td>401684</td>\n",
       "      <td>23</td>\n",
       "      <td>5</td>\n",
       "      <td>5</td>\n",
       "      <td>Great for kids and dips and spices</td>\n",
       "    </tr>\n",
       "    <tr>\n",
       "      <th>1</th>\n",
       "      <td>401684</td>\n",
       "      <td>23</td>\n",
       "      <td>5</td>\n",
       "      <td>5</td>\n",
       "      <td>Love this sturdy and perfect sized ramekin.\\r\\...</td>\n",
       "    </tr>\n",
       "    <tr>\n",
       "      <th>2</th>\n",
       "      <td>401684</td>\n",
       "      <td>23</td>\n",
       "      <td>5</td>\n",
       "      <td>5</td>\n",
       "      <td>exactly what I was looking for.</td>\n",
       "    </tr>\n",
       "    <tr>\n",
       "      <th>3</th>\n",
       "      <td>401684</td>\n",
       "      <td>23</td>\n",
       "      <td>5</td>\n",
       "      <td>5</td>\n",
       "      <td>I got these to make small servings of creme br...</td>\n",
       "    </tr>\n",
       "    <tr>\n",
       "      <th>4</th>\n",
       "      <td>401684</td>\n",
       "      <td>23</td>\n",
       "      <td>5</td>\n",
       "      <td>5</td>\n",
       "      <td>Perfect size for decadent desserts!</td>\n",
       "    </tr>\n",
       "  </tbody>\n",
       "</table>\n",
       "</div>"
      ],
      "text/plain": [
       "      SKU  review_count  comment_count  rating  \\\n",
       "0  401684            23              5       5   \n",
       "1  401684            23              5       5   \n",
       "2  401684            23              5       5   \n",
       "3  401684            23              5       5   \n",
       "4  401684            23              5       5   \n",
       "\n",
       "                                                text  \n",
       "0                 Great for kids and dips and spices  \n",
       "1  Love this sturdy and perfect sized ramekin.\\r\\...  \n",
       "2                    exactly what I was looking for.  \n",
       "3  I got these to make small servings of creme br...  \n",
       "4                Perfect size for decadent desserts!  "
      ]
     },
     "execution_count": 6,
     "metadata": {},
     "output_type": "execute_result"
    }
   ],
   "source": [
    "review2 = review1[['SKU', 'review_count', 'comment_count', 'rating', 'text']]\n",
    "review2.head()"
   ]
  },
  {
   "cell_type": "code",
   "execution_count": 7,
   "metadata": {},
   "outputs": [
    {
     "data": {
      "text/html": [
       "<div>\n",
       "<style scoped>\n",
       "    .dataframe tbody tr th:only-of-type {\n",
       "        vertical-align: middle;\n",
       "    }\n",
       "\n",
       "    .dataframe tbody tr th {\n",
       "        vertical-align: top;\n",
       "    }\n",
       "\n",
       "    .dataframe thead th {\n",
       "        text-align: right;\n",
       "    }\n",
       "</style>\n",
       "<table border=\"1\" class=\"dataframe\">\n",
       "  <thead>\n",
       "    <tr style=\"text-align: right;\">\n",
       "      <th></th>\n",
       "      <th>SKU</th>\n",
       "      <th>review_count</th>\n",
       "      <th>comment_count</th>\n",
       "      <th>rating</th>\n",
       "      <th>text</th>\n",
       "    </tr>\n",
       "  </thead>\n",
       "  <tbody>\n",
       "    <tr>\n",
       "      <th>28192</th>\n",
       "      <td>2944134</td>\n",
       "      <td>30</td>\n",
       "      <td>0</td>\n",
       "      <td>5</td>\n",
       "      <td>NaN</td>\n",
       "    </tr>\n",
       "  </tbody>\n",
       "</table>\n",
       "</div>"
      ],
      "text/plain": [
       "           SKU  review_count  comment_count  rating text\n",
       "28192  2944134            30              0       5  NaN"
      ]
     },
     "execution_count": 7,
     "metadata": {},
     "output_type": "execute_result"
    }
   ],
   "source": [
    "review2[review2['text'].isnull()]"
   ]
  },
  {
   "cell_type": "code",
   "execution_count": 8,
   "metadata": {},
   "outputs": [
    {
     "name": "stdout",
     "output_type": "stream",
     "text": [
      "<class 'pandas.core.frame.DataFrame'>\n",
      "Int64Index: 147511 entries, 0 to 147511\n",
      "Data columns (total 5 columns):\n",
      "SKU              147511 non-null object\n",
      "review_count     147511 non-null int64\n",
      "comment_count    147511 non-null int64\n",
      "rating           147511 non-null int64\n",
      "text             147511 non-null object\n",
      "dtypes: int64(3), object(2)\n",
      "memory usage: 6.8+ MB\n"
     ]
    }
   ],
   "source": [
    "review2.dropna(inplace = True)\n",
    "review2.info()"
   ]
  },
  {
   "cell_type": "code",
   "execution_count": 9,
   "metadata": {},
   "outputs": [],
   "source": [
    "review2['length'] = review2['text'].apply(len)"
   ]
  },
  {
   "cell_type": "code",
   "execution_count": 12,
   "metadata": {},
   "outputs": [
    {
     "data": {
      "text/plain": [
       "<seaborn.axisgrid.FacetGrid at 0x2128941bf28>"
      ]
     },
     "execution_count": 12,
     "metadata": {},
     "output_type": "execute_result"
    },
    {
     "data": {
      "image/png": "[encoded data removed]",
      "text/plain": [
       "<Figure size 1080x216 with 5 Axes>"
      ]
     },
     "metadata": {
      "needs_background": "light"
     },
     "output_type": "display_data"
    }
   ],
   "source": [
    "\n",
    "g = sns.FacetGrid(data=review2, col='rating')\n",
    "g.map(plt.hist, 'length', color='blue', bins=100)"
   ]
  },
  {
   "cell_type": "code",
   "execution_count": 13,
   "metadata": {},
   "outputs": [
    {
     "data": {
      "text/plain": [
       "5    123383\n",
       "4     12334\n",
       "1      4437\n",
       "3      4377\n",
       "2      2980\n",
       "Name: rating, dtype: int64"
      ]
     },
     "execution_count": 13,
     "metadata": {},
     "output_type": "execute_result"
    }
   ],
   "source": [
    "review2['rating'].value_counts() "
   ]
  },
  {
   "cell_type": "code",
   "execution_count": 14,
   "metadata": {},
   "outputs": [
    {
     "data": {
      "text/plain": [
       "<matplotlib.axes._subplots.AxesSubplot at 0x2128adae438>"
      ]
     },
     "execution_count": 14,
     "metadata": {},
     "output_type": "execute_result"
    },
    {
     "data": {
      "image/png": "[encoded data removed]",
      "text/plain": [
       "<Figure size 432x288 with 1 Axes>"
      ]
     },
     "metadata": {
      "needs_background": "light"
     },
     "output_type": "display_data"
    }
   ],
   "source": [
    "review2['length'].plot.hist(bins=100)\n",
    "#comments1['length'].describe()"
   ]
  },
  {
   "cell_type": "code",
   "execution_count": 15,
   "metadata": {},
   "outputs": [
    {
     "data": {
      "text/plain": [
       "<matplotlib.axes._subplots.AxesSubplot at 0x2128b8fe668>"
      ]
     },
     "execution_count": 15,
     "metadata": {},
     "output_type": "execute_result"
    },
    {
     "data": {
      "image/png": "[encoded data removed]",
      "text/plain": [
       "<Figure size 432x288 with 1 Axes>"
      ]
     },
     "metadata": {
      "needs_background": "light"
     },
     "output_type": "display_data"
    }
   ],
   "source": [
    "sns.boxplot(x='rating', y='length', data=review2)"
   ]
  },
  {
   "cell_type": "code",
   "execution_count": 16,
   "metadata": {},
   "outputs": [
    {
     "data": {
      "text/html": [
       "<div>\n",
       "<style scoped>\n",
       "    .dataframe tbody tr th:only-of-type {\n",
       "        vertical-align: middle;\n",
       "    }\n",
       "\n",
       "    .dataframe tbody tr th {\n",
       "        vertical-align: top;\n",
       "    }\n",
       "\n",
       "    .dataframe thead th {\n",
       "        text-align: right;\n",
       "    }\n",
       "</style>\n",
       "<table border=\"1\" class=\"dataframe\">\n",
       "  <thead>\n",
       "    <tr style=\"text-align: right;\">\n",
       "      <th></th>\n",
       "      <th>review_count</th>\n",
       "      <th>comment_count</th>\n",
       "      <th>length</th>\n",
       "    </tr>\n",
       "  </thead>\n",
       "  <tbody>\n",
       "    <tr>\n",
       "      <th>review_count</th>\n",
       "      <td>1.000000</td>\n",
       "      <td>0.987865</td>\n",
       "      <td>-0.958182</td>\n",
       "    </tr>\n",
       "    <tr>\n",
       "      <th>comment_count</th>\n",
       "      <td>0.987865</td>\n",
       "      <td>1.000000</td>\n",
       "      <td>-0.983445</td>\n",
       "    </tr>\n",
       "    <tr>\n",
       "      <th>length</th>\n",
       "      <td>-0.958182</td>\n",
       "      <td>-0.983445</td>\n",
       "      <td>1.000000</td>\n",
       "    </tr>\n",
       "  </tbody>\n",
       "</table>\n",
       "</div>"
      ],
      "text/plain": [
       "               review_count  comment_count    length\n",
       "review_count       1.000000       0.987865 -0.958182\n",
       "comment_count      0.987865       1.000000 -0.983445\n",
       "length            -0.958182      -0.983445  1.000000"
      ]
     },
     "execution_count": 16,
     "metadata": {},
     "output_type": "execute_result"
    }
   ],
   "source": [
    "rating = review2.groupby('rating').mean()\n",
    "rating.corr()"
   ]
  },
  {
   "cell_type": "code",
   "execution_count": 17,
   "metadata": {},
   "outputs": [
    {
     "data": {
      "text/plain": [
       "<matplotlib.axes._subplots.AxesSubplot at 0x2128ccb14e0>"
      ]
     },
     "execution_count": 17,
     "metadata": {},
     "output_type": "execute_result"
    },
    {
     "data": {
      "image/png": "[encoded data removed]",
      "text/plain": [
       "<Figure size 432x288 with 2 Axes>"
      ]
     },
     "metadata": {
      "needs_background": "light"
     },
     "output_type": "display_data"
    }
   ],
   "source": [
    "sns.heatmap(data=rating.corr(), annot=True)"
   ]
  },
  {
   "cell_type": "code",
   "execution_count": 18,
   "metadata": {},
   "outputs": [
    {
     "data": {
      "text/html": [
       "<div>\n",
       "<style scoped>\n",
       "    .dataframe tbody tr th:only-of-type {\n",
       "        vertical-align: middle;\n",
       "    }\n",
       "\n",
       "    .dataframe tbody tr th {\n",
       "        vertical-align: top;\n",
       "    }\n",
       "\n",
       "    .dataframe thead th {\n",
       "        text-align: right;\n",
       "    }\n",
       "</style>\n",
       "<table border=\"1\" class=\"dataframe\">\n",
       "  <thead>\n",
       "    <tr style=\"text-align: right;\">\n",
       "      <th></th>\n",
       "      <th>SKU</th>\n",
       "      <th>review_count</th>\n",
       "      <th>comment_count</th>\n",
       "      <th>rating</th>\n",
       "      <th>text</th>\n",
       "      <th>length</th>\n",
       "    </tr>\n",
       "  </thead>\n",
       "  <tbody>\n",
       "    <tr>\n",
       "      <th>0</th>\n",
       "      <td>401684</td>\n",
       "      <td>23</td>\n",
       "      <td>5</td>\n",
       "      <td>5</td>\n",
       "      <td>Great for kids and dips and spices</td>\n",
       "      <td>34</td>\n",
       "    </tr>\n",
       "    <tr>\n",
       "      <th>1</th>\n",
       "      <td>401684</td>\n",
       "      <td>23</td>\n",
       "      <td>5</td>\n",
       "      <td>5</td>\n",
       "      <td>Love this sturdy and perfect sized ramekin.\\r\\...</td>\n",
       "      <td>268</td>\n",
       "    </tr>\n",
       "    <tr>\n",
       "      <th>2</th>\n",
       "      <td>401684</td>\n",
       "      <td>23</td>\n",
       "      <td>5</td>\n",
       "      <td>5</td>\n",
       "      <td>exactly what I was looking for.</td>\n",
       "      <td>31</td>\n",
       "    </tr>\n",
       "    <tr>\n",
       "      <th>3</th>\n",
       "      <td>401684</td>\n",
       "      <td>23</td>\n",
       "      <td>5</td>\n",
       "      <td>5</td>\n",
       "      <td>I got these to make small servings of creme br...</td>\n",
       "      <td>75</td>\n",
       "    </tr>\n",
       "    <tr>\n",
       "      <th>4</th>\n",
       "      <td>401684</td>\n",
       "      <td>23</td>\n",
       "      <td>5</td>\n",
       "      <td>5</td>\n",
       "      <td>Perfect size for decadent desserts!</td>\n",
       "      <td>35</td>\n",
       "    </tr>\n",
       "  </tbody>\n",
       "</table>\n",
       "</div>"
      ],
      "text/plain": [
       "      SKU  review_count  comment_count  rating  \\\n",
       "0  401684            23              5       5   \n",
       "1  401684            23              5       5   \n",
       "2  401684            23              5       5   \n",
       "3  401684            23              5       5   \n",
       "4  401684            23              5       5   \n",
       "\n",
       "                                                text  length  \n",
       "0                 Great for kids and dips and spices      34  \n",
       "1  Love this sturdy and perfect sized ramekin.\\r\\...     268  \n",
       "2                    exactly what I was looking for.      31  \n",
       "3  I got these to make small servings of creme br...      75  \n",
       "4                Perfect size for decadent desserts!      35  "
      ]
     },
     "execution_count": 18,
     "metadata": {},
     "output_type": "execute_result"
    }
   ],
   "source": [
    "review2.head()"
   ]
  },
  {
   "cell_type": "code",
   "execution_count": 19,
   "metadata": {},
   "outputs": [
    {
     "data": {
      "text/plain": [
       "(7417, 6)"
      ]
     },
     "execution_count": 19,
     "metadata": {},
     "output_type": "execute_result"
    }
   ],
   "source": [
    "review2_rate_1_2 = review2[(review2['rating'] == 1) | (review2['rating'] == 2)]\n",
    "review2_rate_1_2.shape"
   ]
  },
  {
   "cell_type": "code",
   "execution_count": 20,
   "metadata": {},
   "outputs": [
    {
     "data": {
      "text/plain": [
       "1    7417\n",
       "Name: rating, dtype: int64"
      ]
     },
     "execution_count": 20,
     "metadata": {},
     "output_type": "execute_result"
    }
   ],
   "source": [
    "review2_rate_1_2['rating'] = review2_rate_1_2['rating'].replace(2,1)\n",
    "review2_rate_1_2['rating'].value_counts()\n"
   ]
  },
  {
   "cell_type": "code",
   "execution_count": 21,
   "metadata": {},
   "outputs": [
    {
     "data": {
      "text/plain": [
       "(123383, 6)"
      ]
     },
     "execution_count": 21,
     "metadata": {},
     "output_type": "execute_result"
    }
   ],
   "source": [
    "review2_rate_5 = review2[(review2['rating'] == 5)]\n",
    "review2_rate_5.shape"
   ]
  },
  {
   "cell_type": "code",
   "execution_count": 22,
   "metadata": {},
   "outputs": [],
   "source": [
    "review2_rate5_sample = review2_rate_5.sample(frac=0.09, random_state=89)"
   ]
  },
  {
   "cell_type": "code",
   "execution_count": 23,
   "metadata": {},
   "outputs": [
    {
     "data": {
      "text/plain": [
       "(11104, 6)"
      ]
     },
     "execution_count": 23,
     "metadata": {},
     "output_type": "execute_result"
    }
   ],
   "source": [
    "review2_rate5_sample.shape"
   ]
  },
  {
   "cell_type": "code",
   "execution_count": 24,
   "metadata": {},
   "outputs": [
    {
     "data": {
      "text/html": [
       "<div>\n",
       "<style scoped>\n",
       "    .dataframe tbody tr th:only-of-type {\n",
       "        vertical-align: middle;\n",
       "    }\n",
       "\n",
       "    .dataframe tbody tr th {\n",
       "        vertical-align: top;\n",
       "    }\n",
       "\n",
       "    .dataframe thead th {\n",
       "        text-align: right;\n",
       "    }\n",
       "</style>\n",
       "<table border=\"1\" class=\"dataframe\">\n",
       "  <thead>\n",
       "    <tr style=\"text-align: right;\">\n",
       "      <th></th>\n",
       "      <th>SKU</th>\n",
       "      <th>review_count</th>\n",
       "      <th>comment_count</th>\n",
       "      <th>rating</th>\n",
       "      <th>text</th>\n",
       "      <th>length</th>\n",
       "    </tr>\n",
       "  </thead>\n",
       "  <tbody>\n",
       "    <tr>\n",
       "      <th>23319</th>\n",
       "      <td>2871654</td>\n",
       "      <td>7</td>\n",
       "      <td>0</td>\n",
       "      <td>5</td>\n",
       "      <td>Great sturdy lamp  Goes well with the rest of ...</td>\n",
       "      <td>86</td>\n",
       "    </tr>\n",
       "    <tr>\n",
       "      <th>57218</th>\n",
       "      <td>3138722</td>\n",
       "      <td>25</td>\n",
       "      <td>0</td>\n",
       "      <td>5</td>\n",
       "      <td>Love the scent it just right</td>\n",
       "      <td>28</td>\n",
       "    </tr>\n",
       "    <tr>\n",
       "      <th>120058</th>\n",
       "      <td>3593680</td>\n",
       "      <td>8</td>\n",
       "      <td>1</td>\n",
       "      <td>5</td>\n",
       "      <td>These amber napkin rings are great for setting...</td>\n",
       "      <td>89</td>\n",
       "    </tr>\n",
       "    <tr>\n",
       "      <th>131494</th>\n",
       "      <td>3653450</td>\n",
       "      <td>29</td>\n",
       "      <td>15</td>\n",
       "      <td>5</td>\n",
       "      <td>My Santa was a gift from my son, he's gotten m...</td>\n",
       "      <td>287</td>\n",
       "    </tr>\n",
       "    <tr>\n",
       "      <th>1575</th>\n",
       "      <td>2279518</td>\n",
       "      <td>19</td>\n",
       "      <td>9</td>\n",
       "      <td>5</td>\n",
       "      <td>Libertine color and design of these glasses.  ...</td>\n",
       "      <td>102</td>\n",
       "    </tr>\n",
       "  </tbody>\n",
       "</table>\n",
       "</div>"
      ],
      "text/plain": [
       "            SKU  review_count  comment_count  rating  \\\n",
       "23319   2871654             7              0       5   \n",
       "57218   3138722            25              0       5   \n",
       "120058  3593680             8              1       5   \n",
       "131494  3653450            29             15       5   \n",
       "1575    2279518            19              9       5   \n",
       "\n",
       "                                                     text  length  \n",
       "23319   Great sturdy lamp  Goes well with the rest of ...      86  \n",
       "57218                        Love the scent it just right      28  \n",
       "120058  These amber napkin rings are great for setting...      89  \n",
       "131494  My Santa was a gift from my son, he's gotten m...     287  \n",
       "1575    Libertine color and design of these glasses.  ...     102  "
      ]
     },
     "execution_count": 24,
     "metadata": {},
     "output_type": "execute_result"
    }
   ],
   "source": [
    "review2_rate5_sample.head()"
   ]
  },
  {
   "cell_type": "code",
   "execution_count": 25,
   "metadata": {},
   "outputs": [
    {
     "data": {
      "text/plain": [
       "(18521, 6)"
      ]
     },
     "execution_count": 25,
     "metadata": {},
     "output_type": "execute_result"
    }
   ],
   "source": [
    "Final = review2_rate_1_2.append(review2_rate5_sample, ignore_index=True)\n",
    "Final.shape"
   ]
  },
  {
   "cell_type": "code",
   "execution_count": 26,
   "metadata": {},
   "outputs": [
    {
     "data": {
      "text/html": [
       "<div>\n",
       "<style scoped>\n",
       "    .dataframe tbody tr th:only-of-type {\n",
       "        vertical-align: middle;\n",
       "    }\n",
       "\n",
       "    .dataframe tbody tr th {\n",
       "        vertical-align: top;\n",
       "    }\n",
       "\n",
       "    .dataframe thead th {\n",
       "        text-align: right;\n",
       "    }\n",
       "</style>\n",
       "<table border=\"1\" class=\"dataframe\">\n",
       "  <thead>\n",
       "    <tr style=\"text-align: right;\">\n",
       "      <th></th>\n",
       "      <th>SKU</th>\n",
       "      <th>review_count</th>\n",
       "      <th>comment_count</th>\n",
       "      <th>rating</th>\n",
       "      <th>text</th>\n",
       "      <th>length</th>\n",
       "    </tr>\n",
       "  </thead>\n",
       "  <tbody>\n",
       "    <tr>\n",
       "      <th>0</th>\n",
       "      <td>843940</td>\n",
       "      <td>6</td>\n",
       "      <td>0</td>\n",
       "      <td>1</td>\n",
       "      <td>I have returned the sets of chair covers.</td>\n",
       "      <td>41</td>\n",
       "    </tr>\n",
       "    <tr>\n",
       "      <th>1</th>\n",
       "      <td>843940</td>\n",
       "      <td>6</td>\n",
       "      <td>0</td>\n",
       "      <td>1</td>\n",
       "      <td>Did not fit-had to return. My chair was older ...</td>\n",
       "      <td>70</td>\n",
       "    </tr>\n",
       "    <tr>\n",
       "      <th>2</th>\n",
       "      <td>1672605</td>\n",
       "      <td>9</td>\n",
       "      <td>8</td>\n",
       "      <td>1</td>\n",
       "      <td>Not crazy about this sphere.  I have about 7. ...</td>\n",
       "      <td>101</td>\n",
       "    </tr>\n",
       "    <tr>\n",
       "      <th>3</th>\n",
       "      <td>2043879</td>\n",
       "      <td>8</td>\n",
       "      <td>1</td>\n",
       "      <td>1</td>\n",
       "      <td>Stunning piece of art, love it</td>\n",
       "      <td>30</td>\n",
       "    </tr>\n",
       "    <tr>\n",
       "      <th>4</th>\n",
       "      <td>2069836</td>\n",
       "      <td>7</td>\n",
       "      <td>0</td>\n",
       "      <td>1</td>\n",
       "      <td>We've only owned it for a couple months, but w...</td>\n",
       "      <td>177</td>\n",
       "    </tr>\n",
       "  </tbody>\n",
       "</table>\n",
       "</div>"
      ],
      "text/plain": [
       "       SKU  review_count  comment_count  rating  \\\n",
       "0   843940             6              0       1   \n",
       "1   843940             6              0       1   \n",
       "2  1672605             9              8       1   \n",
       "3  2043879             8              1       1   \n",
       "4  2069836             7              0       1   \n",
       "\n",
       "                                                text  length  \n",
       "0          I have returned the sets of chair covers.      41  \n",
       "1  Did not fit-had to return. My chair was older ...      70  \n",
       "2  Not crazy about this sphere.  I have about 7. ...     101  \n",
       "3                     Stunning piece of art, love it      30  \n",
       "4  We've only owned it for a couple months, but w...     177  "
      ]
     },
     "execution_count": 26,
     "metadata": {},
     "output_type": "execute_result"
    }
   ],
   "source": [
    "Final.reset_index(inplace=True, drop = True)\n",
    "#Final.sort_values(by = 'SKU',inplace=True)\n",
    "Final.head()"
   ]
  },
  {
   "cell_type": "code",
   "execution_count": 28,
   "metadata": {},
   "outputs": [],
   "source": [
    "# Final.drop(['level_0','index'],axis = 1, inplace = True)\n",
    "# Final.head()"
   ]
  },
  {
   "cell_type": "code",
   "execution_count": 29,
   "metadata": {},
   "outputs": [
    {
     "data": {
      "text/html": [
       "<div>\n",
       "<style scoped>\n",
       "    .dataframe tbody tr th:only-of-type {\n",
       "        vertical-align: middle;\n",
       "    }\n",
       "\n",
       "    .dataframe tbody tr th {\n",
       "        vertical-align: top;\n",
       "    }\n",
       "\n",
       "    .dataframe thead th {\n",
       "        text-align: right;\n",
       "    }\n",
       "</style>\n",
       "<table border=\"1\" class=\"dataframe\">\n",
       "  <thead>\n",
       "    <tr style=\"text-align: right;\">\n",
       "      <th></th>\n",
       "      <th>SKU</th>\n",
       "      <th>review_count</th>\n",
       "      <th>comment_count</th>\n",
       "      <th>rating</th>\n",
       "      <th>text</th>\n",
       "      <th>length</th>\n",
       "    </tr>\n",
       "  </thead>\n",
       "  <tbody>\n",
       "    <tr>\n",
       "      <th>0</th>\n",
       "      <td>3116001</td>\n",
       "      <td>68</td>\n",
       "      <td>24</td>\n",
       "      <td>5</td>\n",
       "      <td>Very unique table. Perfect size. Have received...</td>\n",
       "      <td>79</td>\n",
       "    </tr>\n",
       "    <tr>\n",
       "      <th>1</th>\n",
       "      <td>2983984</td>\n",
       "      <td>31</td>\n",
       "      <td>20</td>\n",
       "      <td>5</td>\n",
       "      <td>Beautiful look, sturdy, and a nice, wide table.</td>\n",
       "      <td>47</td>\n",
       "    </tr>\n",
       "    <tr>\n",
       "      <th>2</th>\n",
       "      <td>3157876</td>\n",
       "      <td>17</td>\n",
       "      <td>11</td>\n",
       "      <td>5</td>\n",
       "      <td>Beautiful &amp; very solid construction!</td>\n",
       "      <td>36</td>\n",
       "    </tr>\n",
       "    <tr>\n",
       "      <th>3</th>\n",
       "      <td>3653146</td>\n",
       "      <td>11</td>\n",
       "      <td>2</td>\n",
       "      <td>5</td>\n",
       "      <td>The mini size is perfect for my office.\\r\\nThe...</td>\n",
       "      <td>81</td>\n",
       "    </tr>\n",
       "    <tr>\n",
       "      <th>4</th>\n",
       "      <td>3119140</td>\n",
       "      <td>46</td>\n",
       "      <td>15</td>\n",
       "      <td>1</td>\n",
       "      <td>It didn't smell strong in store, but when I pl...</td>\n",
       "      <td>119</td>\n",
       "    </tr>\n",
       "  </tbody>\n",
       "</table>\n",
       "</div>"
      ],
      "text/plain": [
       "       SKU  review_count  comment_count  rating  \\\n",
       "0  3116001            68             24       5   \n",
       "1  2983984            31             20       5   \n",
       "2  3157876            17             11       5   \n",
       "3  3653146            11              2       5   \n",
       "4  3119140            46             15       1   \n",
       "\n",
       "                                                text  length  \n",
       "0  Very unique table. Perfect size. Have received...      79  \n",
       "1    Beautiful look, sturdy, and a nice, wide table.      47  \n",
       "2               Beautiful & very solid construction!      36  \n",
       "3  The mini size is perfect for my office.\\r\\nThe...      81  \n",
       "4  It didn't smell strong in store, but when I pl...     119  "
      ]
     },
     "execution_count": 29,
     "metadata": {},
     "output_type": "execute_result"
    }
   ],
   "source": [
    "# reshuffle rows\n",
    "Final = Final.sample(frac=1).reset_index(drop=True)\n",
    "Final.head()"
   ]
  },
  {
   "cell_type": "code",
   "execution_count": 30,
   "metadata": {},
   "outputs": [
    {
     "name": "stdout",
     "output_type": "stream",
     "text": [
      "<class 'pandas.core.frame.DataFrame'>\n",
      "RangeIndex: 18521 entries, 0 to 18520\n",
      "Data columns (total 6 columns):\n",
      "SKU              18521 non-null object\n",
      "review_count     18521 non-null int64\n",
      "comment_count    18521 non-null int64\n",
      "rating           18521 non-null int64\n",
      "text             18521 non-null object\n",
      "length           18521 non-null int64\n",
      "dtypes: int64(4), object(2)\n",
      "memory usage: 868.2+ KB\n"
     ]
    }
   ],
   "source": [
    "Final.info()"
   ]
  },
  {
   "cell_type": "code",
   "execution_count": 31,
   "metadata": {},
   "outputs": [],
   "source": [
    "#### Model Building starts\n",
    "\n",
    "X = Final['text']\n",
    "y = Final['rating']"
   ]
  },
  {
   "cell_type": "code",
   "execution_count": 32,
   "metadata": {},
   "outputs": [
    {
     "data": {
      "text/plain": [
       "'Very unique table. Perfect size. Have received many compliments on it. Love it!'"
      ]
     },
     "execution_count": 32,
     "metadata": {},
     "output_type": "execute_result"
    }
   ],
   "source": [
    "X[0]"
   ]
  },
  {
   "cell_type": "code",
   "execution_count": 33,
   "metadata": {},
   "outputs": [],
   "source": [
    "import string\n",
    "from nltk.corpus import stopwords"
   ]
  },
  {
   "cell_type": "code",
   "execution_count": 178,
   "metadata": {
    "scrolled": true
   },
   "outputs": [
    {
     "name": "stderr",
     "output_type": "stream",
     "text": [
      "[nltk_data] Downloading package stopwords to C:\\Users\\Himanshu\n",
      "[nltk_data]     Rustagi\\AppData\\Roaming\\nltk_data...\n",
      "[nltk_data]   Unzipping corpora\\stopwords.zip.\n"
     ]
    },
    {
     "data": {
      "text/plain": [
       "True"
      ]
     },
     "execution_count": 178,
     "metadata": {},
     "output_type": "execute_result"
    }
   ],
   "source": [
    "\n",
    "nltk.download('stopwords')"
   ]
  },
  {
   "cell_type": "code",
   "execution_count": 180,
   "metadata": {},
   "outputs": [],
   "source": [
    "#stopwords.words('english')"
   ]
  },
  {
   "cell_type": "code",
   "execution_count": 34,
   "metadata": {},
   "outputs": [],
   "source": [
    "#bag of words approach\n",
    "\n",
    "def text_process(text):\n",
    "    nopunc = [char for char in text if char not in string.punctuation]\n",
    "    nopunc = ''.join(nopunc)\n",
    "    return [word for word in nopunc.split() if word.lower() not in stopwords.words('english')]\n"
   ]
  },
  {
   "cell_type": "code",
   "execution_count": 35,
   "metadata": {},
   "outputs": [
    {
     "name": "stdout",
     "output_type": "stream",
     "text": [
      "['Hey', 'sample', 'review', 'happens', 'contain', 'punctuations']\n"
     ]
    }
   ],
   "source": [
    "sample_text = \"Hey there! This is a sample review, which happens to contain punctuations.\"\n",
    "\n",
    "print(text_process(sample_text))\n",
    "#Output: ['Hey', 'sample', 'review', 'happens', 'contain', 'punctuations']"
   ]
  },
  {
   "cell_type": "code",
   "execution_count": 36,
   "metadata": {},
   "outputs": [
    {
     "data": {
      "text/plain": [
       "0    [unique, table, Perfect, size, received, many,...\n",
       "1         [Beautiful, look, sturdy, nice, wide, table]\n",
       "2                     [Beautiful, solid, construction]\n",
       "3    [mini, size, perfect, office, scent, great, ov...\n",
       "4    [didnt, smell, strong, store, plugged, overpow...\n",
       "Name: text, dtype: object"
      ]
     },
     "execution_count": 36,
     "metadata": {},
     "output_type": "execute_result"
    }
   ],
   "source": [
    "Final['text'].head(5).apply(text_process)"
   ]
  },
  {
   "cell_type": "code",
   "execution_count": 106,
   "metadata": {},
   "outputs": [],
   "source": [
    "#clean_list = Final['text'].apply(text_process)"
   ]
  },
  {
   "cell_type": "code",
   "execution_count": 37,
   "metadata": {},
   "outputs": [],
   "source": [
    "from sklearn.feature_extraction.text import CountVectorizer"
   ]
  },
  {
   "cell_type": "code",
   "execution_count": 38,
   "metadata": {},
   "outputs": [],
   "source": [
    "bow_transformer = CountVectorizer(analyzer=text_process).fit(X)"
   ]
  },
  {
   "cell_type": "code",
   "execution_count": 105,
   "metadata": {},
   "outputs": [
    {
     "data": {
      "text/plain": [
       "sklearn.feature_extraction.text.CountVectorizer"
      ]
     },
     "execution_count": 105,
     "metadata": {},
     "output_type": "execute_result"
    }
   ],
   "source": [
    "#bow_transformer"
   ]
  },
  {
   "cell_type": "code",
   "execution_count": 39,
   "metadata": {},
   "outputs": [
    {
     "data": {
      "text/plain": [
       "16192"
      ]
     },
     "execution_count": 39,
     "metadata": {},
     "output_type": "execute_result"
    }
   ],
   "source": [
    "len(bow_transformer.vocabulary_)"
   ]
  },
  {
   "cell_type": "code",
   "execution_count": 41,
   "metadata": {},
   "outputs": [
    {
     "data": {
      "text/plain": [
       "'falls apart doesnt hold up   i bought 2 and 1 is already  falling apart to where i cant use again'"
      ]
     },
     "execution_count": 41,
     "metadata": {},
     "output_type": "execute_result"
    }
   ],
   "source": [
    "review_25 =X[24]\n",
    "review_25"
   ]
  },
  {
   "cell_type": "code",
   "execution_count": 42,
   "metadata": {},
   "outputs": [
    {
     "data": {
      "text/plain": [
       "<1x16192 sparse matrix of type '<class 'numpy.int64'>'\n",
       "\twith 11 stored elements in Compressed Sparse Row format>"
      ]
     },
     "execution_count": 42,
     "metadata": {},
     "output_type": "execute_result"
    }
   ],
   "source": [
    "bow_25 = bow_transformer.transform([review_25])\n",
    "bow_25"
   ]
  },
  {
   "cell_type": "code",
   "execution_count": 43,
   "metadata": {},
   "outputs": [],
   "source": [
    "X = bow_transformer.transform(X)"
   ]
  },
  {
   "cell_type": "code",
   "execution_count": 263,
   "metadata": {},
   "outputs": [
    {
     "data": {
      "text/plain": [
       "<18521x16192 sparse matrix of type '<class 'numpy.int64'>'\n",
       "\twith 228338 stored elements in Compressed Sparse Row format>"
      ]
     },
     "metadata": {},
     "output_type": "display_data"
    }
   ],
   "source": []
  },
  {
   "cell_type": "code",
   "execution_count": 44,
   "metadata": {},
   "outputs": [
    {
     "data": {
      "text/plain": [
       "(18521, 16192)"
      ]
     },
     "execution_count": 44,
     "metadata": {},
     "output_type": "execute_result"
    }
   ],
   "source": [
    "X.shape"
   ]
  },
  {
   "cell_type": "code",
   "execution_count": 45,
   "metadata": {},
   "outputs": [
    {
     "data": {
      "text/plain": [
       "228338"
      ]
     },
     "execution_count": 45,
     "metadata": {},
     "output_type": "execute_result"
    }
   ],
   "source": [
    "X.nnz"
   ]
  },
  {
   "cell_type": "code",
   "execution_count": 46,
   "metadata": {},
   "outputs": [
    {
     "name": "stdout",
     "output_type": "stream",
     "text": [
      "Shape of Sparse Matrix:  (18521, 16192)\n",
      "Amount of Non-Zero occurrences:  228338\n"
     ]
    },
    {
     "data": {
      "text/plain": [
       "0.07614006896988847"
      ]
     },
     "execution_count": 46,
     "metadata": {},
     "output_type": "execute_result"
    }
   ],
   "source": [
    "print('Shape of Sparse Matrix: ', X.shape)\n",
    "print('Amount of Non-Zero occurrences: ', X.nnz)\n",
    "# Percentage of non-zero values\n",
    "density = (100.0 * X.nnz / (X.shape[0] * X.shape[1]))\n",
    "density\n",
    "#print(‘Density: {}’.format((density)))"
   ]
  },
  {
   "cell_type": "code",
   "execution_count": 47,
   "metadata": {},
   "outputs": [],
   "source": [
    "from sklearn.model_selection import train_test_split\n",
    "X_train, X_test, y_train, y_test = train_test_split(X, y, test_size=0.3, random_state=101)"
   ]
  },
  {
   "cell_type": "code",
   "execution_count": 48,
   "metadata": {},
   "outputs": [
    {
     "data": {
      "text/plain": [
       "MultinomialNB(alpha=1.0, class_prior=None, fit_prior=True)"
      ]
     },
     "execution_count": 48,
     "metadata": {},
     "output_type": "execute_result"
    }
   ],
   "source": [
    "from sklearn.naive_bayes import MultinomialNB\n",
    "nb = MultinomialNB()\n",
    "nb.fit(X_train, y_train)"
   ]
  },
  {
   "cell_type": "code",
   "execution_count": 49,
   "metadata": {},
   "outputs": [],
   "source": [
    "preds = nb.predict(X_test)"
   ]
  },
  {
   "cell_type": "code",
   "execution_count": 50,
   "metadata": {},
   "outputs": [
    {
     "name": "stdout",
     "output_type": "stream",
     "text": [
      "[[1937  308]\n",
      " [ 222 3090]]\n",
      "\n",
      "\n",
      "              precision    recall  f1-score   support\n",
      "\n",
      "           1       0.90      0.86      0.88      2245\n",
      "           5       0.91      0.93      0.92      3312\n",
      "\n",
      "   micro avg       0.90      0.90      0.90      5557\n",
      "   macro avg       0.90      0.90      0.90      5557\n",
      "weighted avg       0.90      0.90      0.90      5557\n",
      "\n"
     ]
    }
   ],
   "source": [
    "from sklearn.metrics import confusion_matrix, classification_report\n",
    "print(confusion_matrix(y_test, preds))\n",
    "print('\\n')\n",
    "print(classification_report(y_test, preds))"
   ]
  },
  {
   "cell_type": "code",
   "execution_count": 51,
   "metadata": {},
   "outputs": [
    {
     "data": {
      "text/plain": [
       "'This set is really so beautiful and looks so authentic. The edging and details give a hand made look, and the color is spot on.'"
      ]
     },
     "execution_count": 51,
     "metadata": {},
     "output_type": "execute_result"
    }
   ],
   "source": [
    "positive_review = Final['text'][59]\n",
    "positive_review"
   ]
  },
  {
   "cell_type": "code",
   "execution_count": 52,
   "metadata": {},
   "outputs": [
    {
     "data": {
      "text/plain": [
       "5"
      ]
     },
     "execution_count": 52,
     "metadata": {},
     "output_type": "execute_result"
    }
   ],
   "source": [
    "positive_review_transformed = bow_transformer.transform([positive_review])\n",
    "nb.predict(positive_review_transformed)[0]"
   ]
  },
  {
   "cell_type": "code",
   "execution_count": 60,
   "metadata": {},
   "outputs": [
    {
     "data": {
      "text/plain": [
       "\"Not the same as Vanilla Creme, a favorite of mine. You just can't smell this one. Also, it's spiced not warm smelling like the old one. I won't purchase again.\""
      ]
     },
     "execution_count": 60,
     "metadata": {},
     "output_type": "execute_result"
    }
   ],
   "source": [
    "negative_review = Final['text'][4571]\n",
    "negative_review"
   ]
  },
  {
   "cell_type": "code",
   "execution_count": 61,
   "metadata": {},
   "outputs": [
    {
     "data": {
      "text/plain": [
       "1"
      ]
     },
     "execution_count": 61,
     "metadata": {},
     "output_type": "execute_result"
    }
   ],
   "source": [
    "negative_review_transformed = bow_transformer.transform([negative_review])\n",
    "nb.predict(negative_review_transformed)[0]"
   ]
  },
  {
   "cell_type": "code",
   "execution_count": 87,
   "metadata": {},
   "outputs": [
    {
     "data": {
      "text/plain": [
       "'This pillow looks beautiful but is not particularly useful as the \"stuffing\" is a poor quality - great for decoration only'"
      ]
     },
     "execution_count": 87,
     "metadata": {},
     "output_type": "execute_result"
    }
   ],
   "source": [
    "negative_review1 = review2['text'][17683]\n",
    "negative_review1"
   ]
  },
  {
   "cell_type": "code",
   "execution_count": 88,
   "metadata": {},
   "outputs": [
    {
     "data": {
      "text/plain": [
       "1"
      ]
     },
     "execution_count": 88,
     "metadata": {},
     "output_type": "execute_result"
    }
   ],
   "source": [
    "negative_review_transformed = bow_transformer.transform([negative_review1])\n",
    "nb.predict(negative_review_transformed)[0]"
   ]
  },
  {
   "cell_type": "code",
   "execution_count": 89,
   "metadata": {},
   "outputs": [
    {
     "name": "stdout",
     "output_type": "stream",
     "text": [
      "('love', -3.9776567058586654)\n",
      "('Love', -4.299837612369123)\n",
      "('great', -4.537272493794088)\n",
      "('beautiful', -4.682780077465327)\n",
      "('perfect', -4.723008965688112)\n"
     ]
    }
   ],
   "source": [
    "feature_to_coef = {\n",
    "    word: coef for word, coef in zip(\n",
    "        bow_transformer.get_feature_names(), nb.coef_[0]\n",
    "    )\n",
    "}\n",
    "\n",
    "for best_positive in sorted(\n",
    "    feature_to_coef.items(), \n",
    "    key=lambda x: x[1], \n",
    "    reverse=True)[:5]:\n",
    "    print (best_positive)"
   ]
  },
  {
   "cell_type": "code",
   "execution_count": 102,
   "metadata": {},
   "outputs": [
    {
     "name": "stdout",
     "output_type": "stream",
     "text": [
      "('ABSURD', -11.499515958060295)\n",
      "('ACHIEVED', -11.499515958060295)\n",
      "('ACTUAL', -11.499515958060295)\n",
      "('ACTUALLY', -11.499515958060295)\n",
      "('ADDS', -11.499515958060295)\n",
      "('ADORABLEHOWEVER', -11.499515958060295)\n",
      "('ADVISED', -11.499515958060295)\n",
      "('AFRAID', -11.499515958060295)\n",
      "('AKA', -11.499515958060295)\n",
      "('ALMOST', -11.499515958060295)\n",
      "('ALOT', -11.499515958060295)\n",
      "('AMAZING', -11.499515958060295)\n",
      "('AMU', -11.499515958060295)\n",
      "('ANGEL', -11.499515958060295)\n",
      "('ANGELS', -11.499515958060295)\n",
      "('ANYONE', -11.499515958060295)\n",
      "('ANYWHERE', -11.499515958060295)\n",
      "('APO', -11.499515958060295)\n",
      "('APPEARS', -11.499515958060295)\n",
      "('AROMA', -11.499515958060295)\n",
      "('AROUND', -11.499515958060295)\n",
      "('ARRIVED', -11.499515958060295)\n",
      "('ARROW', -11.499515958060295)\n",
      "('ASAP', -11.499515958060295)\n",
      "('ASAPat', -11.499515958060295)\n",
      "('ASSEMBLE', -11.499515958060295)\n",
      "('ASSEMBLED', -11.499515958060295)\n",
      "('ASSEMBLY', -11.499515958060295)\n",
      "('ASTOUNDING', -11.499515958060295)\n",
      "('AV', -11.499515958060295)\n",
      "('AVOID', -11.499515958060295)\n",
      "('AW', -11.499515958060295)\n",
      "('AWARE', -11.499515958060295)\n",
      "('AWFUL', -11.499515958060295)\n",
      "('AZ', -11.499515958060295)\n",
      "('Abagail', -11.499515958060295)\n",
      "('Absolutley', -11.499515958060295)\n",
      "('Accents', -11.499515958060295)\n",
      "('Acorn', -11.499515958060295)\n",
      "('Acrylic', -11.499515958060295)\n",
      "('Acton', -11.499515958060295)\n",
      "('Actual', -11.499515958060295)\n",
      "('Ad', -11.499515958060295)\n",
      "('Adirondack', -11.499515958060295)\n",
      "('Adjusting', -11.499515958060295)\n",
      "('Adults', -11.499515958060295)\n",
      "('Aesthetically', -11.499515958060295)\n",
      "('Affordable', -11.499515958060295)\n"
     ]
    }
   ],
   "source": [
    "for best_negative in sorted(\n",
    "    feature_to_coef.items(), \n",
    "    key=lambda x: x[1])[202:250]:\n",
    "    print (best_negative)\n",
    "    "
   ]
  },
  {
   "cell_type": "markdown",
   "metadata": {},
   "source": [
    "### Single Word frequencies, bigrams and trigrams frequencies for rating 1 and 2"
   ]
  },
  {
   "cell_type": "code",
   "execution_count": 203,
   "metadata": {},
   "outputs": [
    {
     "data": {
      "text/html": [
       "<div>\n",
       "<style scoped>\n",
       "    .dataframe tbody tr th:only-of-type {\n",
       "        vertical-align: middle;\n",
       "    }\n",
       "\n",
       "    .dataframe tbody tr th {\n",
       "        vertical-align: top;\n",
       "    }\n",
       "\n",
       "    .dataframe thead th {\n",
       "        text-align: right;\n",
       "    }\n",
       "</style>\n",
       "<table border=\"1\" class=\"dataframe\">\n",
       "  <thead>\n",
       "    <tr style=\"text-align: right;\">\n",
       "      <th></th>\n",
       "      <th>SKU</th>\n",
       "      <th>review_count</th>\n",
       "      <th>comment_count</th>\n",
       "      <th>rating</th>\n",
       "      <th>text</th>\n",
       "      <th>length</th>\n",
       "    </tr>\n",
       "  </thead>\n",
       "  <tbody>\n",
       "    <tr>\n",
       "      <th>27</th>\n",
       "      <td>843940</td>\n",
       "      <td>6</td>\n",
       "      <td>0</td>\n",
       "      <td>1</td>\n",
       "      <td>I have returned the sets of chair covers.</td>\n",
       "      <td>41</td>\n",
       "    </tr>\n",
       "    <tr>\n",
       "      <th>28</th>\n",
       "      <td>843940</td>\n",
       "      <td>6</td>\n",
       "      <td>0</td>\n",
       "      <td>1</td>\n",
       "      <td>Did not fit-had to return. My chair was older ...</td>\n",
       "      <td>70</td>\n",
       "    </tr>\n",
       "    <tr>\n",
       "      <th>31</th>\n",
       "      <td>1672605</td>\n",
       "      <td>9</td>\n",
       "      <td>8</td>\n",
       "      <td>1</td>\n",
       "      <td>Not crazy about this sphere.  I have about 7. ...</td>\n",
       "      <td>101</td>\n",
       "    </tr>\n",
       "    <tr>\n",
       "      <th>125</th>\n",
       "      <td>2043879</td>\n",
       "      <td>8</td>\n",
       "      <td>1</td>\n",
       "      <td>1</td>\n",
       "      <td>Stunning piece of art, love it</td>\n",
       "      <td>30</td>\n",
       "    </tr>\n",
       "    <tr>\n",
       "      <th>189</th>\n",
       "      <td>2069836</td>\n",
       "      <td>7</td>\n",
       "      <td>0</td>\n",
       "      <td>1</td>\n",
       "      <td>We've only owned it for a couple months, but w...</td>\n",
       "      <td>177</td>\n",
       "    </tr>\n",
       "  </tbody>\n",
       "</table>\n",
       "</div>"
      ],
      "text/plain": [
       "         SKU  review_count  comment_count  rating  \\\n",
       "27    843940             6              0       1   \n",
       "28    843940             6              0       1   \n",
       "31   1672605             9              8       1   \n",
       "125  2043879             8              1       1   \n",
       "189  2069836             7              0       1   \n",
       "\n",
       "                                                  text  length  \n",
       "27           I have returned the sets of chair covers.      41  \n",
       "28   Did not fit-had to return. My chair was older ...      70  \n",
       "31   Not crazy about this sphere.  I have about 7. ...     101  \n",
       "125                     Stunning piece of art, love it      30  \n",
       "189  We've only owned it for a couple months, but w...     177  "
      ]
     },
     "execution_count": 203,
     "metadata": {},
     "output_type": "execute_result"
    }
   ],
   "source": [
    "review2_rate_1_2.head()"
   ]
  },
  {
   "cell_type": "code",
   "execution_count": 208,
   "metadata": {},
   "outputs": [
    {
     "data": {
      "text/html": [
       "<div>\n",
       "<style scoped>\n",
       "    .dataframe tbody tr th:only-of-type {\n",
       "        vertical-align: middle;\n",
       "    }\n",
       "\n",
       "    .dataframe tbody tr th {\n",
       "        vertical-align: top;\n",
       "    }\n",
       "\n",
       "    .dataframe thead th {\n",
       "        text-align: right;\n",
       "    }\n",
       "</style>\n",
       "<table border=\"1\" class=\"dataframe\">\n",
       "  <thead>\n",
       "    <tr style=\"text-align: right;\">\n",
       "      <th></th>\n",
       "      <th>SKU</th>\n",
       "      <th>review_count</th>\n",
       "      <th>comment_count</th>\n",
       "      <th>rating</th>\n",
       "      <th>text</th>\n",
       "      <th>length</th>\n",
       "    </tr>\n",
       "  </thead>\n",
       "  <tbody>\n",
       "    <tr>\n",
       "      <th>0</th>\n",
       "      <td>843940</td>\n",
       "      <td>6</td>\n",
       "      <td>0</td>\n",
       "      <td>1</td>\n",
       "      <td>I have returned the sets of chair covers.</td>\n",
       "      <td>41</td>\n",
       "    </tr>\n",
       "    <tr>\n",
       "      <th>1</th>\n",
       "      <td>843940</td>\n",
       "      <td>6</td>\n",
       "      <td>0</td>\n",
       "      <td>1</td>\n",
       "      <td>Did not fit-had to return. My chair was older ...</td>\n",
       "      <td>70</td>\n",
       "    </tr>\n",
       "    <tr>\n",
       "      <th>2</th>\n",
       "      <td>1672605</td>\n",
       "      <td>9</td>\n",
       "      <td>8</td>\n",
       "      <td>1</td>\n",
       "      <td>Not crazy about this sphere.  I have about 7. ...</td>\n",
       "      <td>101</td>\n",
       "    </tr>\n",
       "    <tr>\n",
       "      <th>3</th>\n",
       "      <td>2043879</td>\n",
       "      <td>8</td>\n",
       "      <td>1</td>\n",
       "      <td>1</td>\n",
       "      <td>Stunning piece of art, love it</td>\n",
       "      <td>30</td>\n",
       "    </tr>\n",
       "    <tr>\n",
       "      <th>4</th>\n",
       "      <td>2069836</td>\n",
       "      <td>7</td>\n",
       "      <td>0</td>\n",
       "      <td>1</td>\n",
       "      <td>We've only owned it for a couple months, but w...</td>\n",
       "      <td>177</td>\n",
       "    </tr>\n",
       "  </tbody>\n",
       "</table>\n",
       "</div>"
      ],
      "text/plain": [
       "       SKU  review_count  comment_count  rating  \\\n",
       "0   843940             6              0       1   \n",
       "1   843940             6              0       1   \n",
       "2  1672605             9              8       1   \n",
       "3  2043879             8              1       1   \n",
       "4  2069836             7              0       1   \n",
       "\n",
       "                                                text  length  \n",
       "0          I have returned the sets of chair covers.      41  \n",
       "1  Did not fit-had to return. My chair was older ...      70  \n",
       "2  Not crazy about this sphere.  I have about 7. ...     101  \n",
       "3                     Stunning piece of art, love it      30  \n",
       "4  We've only owned it for a couple months, but w...     177  "
      ]
     },
     "execution_count": 208,
     "metadata": {},
     "output_type": "execute_result"
    }
   ],
   "source": [
    "lower_rating = review2_rate_1_2.reset_index(drop= True)\n",
    "lower_rating.head()"
   ]
  },
  {
   "cell_type": "code",
   "execution_count": 209,
   "metadata": {},
   "outputs": [
    {
     "data": {
      "text/plain": [
       "(7417, 6)"
      ]
     },
     "execution_count": 209,
     "metadata": {},
     "output_type": "execute_result"
    }
   ],
   "source": [
    "lower_rating.shape"
   ]
  },
  {
   "cell_type": "code",
   "execution_count": 210,
   "metadata": {},
   "outputs": [],
   "source": [
    "clean_list = lower_rating['text'].apply(text_process)"
   ]
  },
  {
   "cell_type": "code",
   "execution_count": 212,
   "metadata": {},
   "outputs": [
    {
     "data": {
      "text/plain": [
       "['returned', 'sets', 'chair', 'covers']"
      ]
     },
     "execution_count": 212,
     "metadata": {},
     "output_type": "execute_result"
    }
   ],
   "source": [
    "clean_list[0]"
   ]
  },
  {
   "cell_type": "code",
   "execution_count": 213,
   "metadata": {},
   "outputs": [],
   "source": [
    "def word_freq(clean_list1):\n",
    "    \"\"\"Return a dictionary of word frequencies for the given text.\n",
    "    Input text should be given as an iterable of strings.\"\"\"\n",
    "\n",
    "    freqs = {}\n",
    "    for text in clean_list1:\n",
    "        for word in text:\n",
    "            if word in freqs.keys():\n",
    "                freqs[word] = freqs[word] + 1\n",
    "                \n",
    "            else:\n",
    "                freqs[word] =  1    \n",
    "    return freqs"
   ]
  },
  {
   "cell_type": "code",
   "execution_count": 214,
   "metadata": {},
   "outputs": [],
   "source": [
    "word_count = word_freq(clean_list)"
   ]
  },
  {
   "cell_type": "code",
   "execution_count": 215,
   "metadata": {},
   "outputs": [
    {
     "data": {
      "text/plain": [
       "{'returned': 475,\n",
       " 'sets': 60,\n",
       " 'chair': 482,\n",
       " 'covers': 29,\n",
       " 'fithad': 1,\n",
       " 'return': 427,\n",
       " 'older': 13,\n",
       " 'model': 9,\n",
       " 'wider': 10,\n",
       " 'frame': 121,\n",
       " 'crazy': 30,\n",
       " 'sphere': 2,\n",
       " '7': 28,\n",
       " 'coming': 113,\n",
       " 'apart': 239,\n",
       " 'strong': 157,\n",
       " 'odor': 22,\n",
       " 'Stunning': 1,\n",
       " 'piece': 269,\n",
       " 'art': 39,\n",
       " 'love': 598,\n",
       " 'Weve': 8,\n",
       " 'owned': 20,\n",
       " 'couple': 130,\n",
       " 'months': 247,\n",
       " 'sunlight': 23,\n",
       " 'shines': 2,\n",
       " 'covered': 67,\n",
       " 'scratches': 34,\n",
       " 'someone': 50,\n",
       " 'else': 60,\n",
       " 'already': 204,\n",
       " 'pointed': 3,\n",
       " 'also': 221,\n",
       " 'shows': 41,\n",
       " 'smear': 1,\n",
       " 'marks': 27,\n",
       " 'well': 358,\n",
       " 'Stool': 1,\n",
       " 'perfect': 176,\n",
       " 'height': 30,\n",
       " 'size': 238,\n",
       " 'put': 419,\n",
       " 'feet': 33,\n",
       " 'Yes': 16,\n",
       " 'looks': 553,\n",
       " 'functional': 28,\n",
       " 'it’s': 174,\n",
       " 'Wine': 2,\n",
       " 'bottles': 26,\n",
       " 'bottom': 134,\n",
       " 'rack': 21,\n",
       " 'fit': 211,\n",
       " 'needs': 56,\n",
       " 'elevated': 1,\n",
       " 'Tried': 30,\n",
       " 'hard': 148,\n",
       " '12': 56,\n",
       " 'pieces': 219,\n",
       " 'Ended': 13,\n",
       " 'returning': 217,\n",
       " 'many': 158,\n",
       " 'due': 68,\n",
       " 'perfections': 1,\n",
       " 'bought': 695,\n",
       " 'dinner': 34,\n",
       " 'plates': 100,\n",
       " 'salad': 23,\n",
       " 'problem': 81,\n",
       " 'uneven': 45,\n",
       " 'stack': 5,\n",
       " 'One': 219,\n",
       " 'actually': 165,\n",
       " 'wobbles': 7,\n",
       " 'style': 68,\n",
       " 'pretty': 369,\n",
       " 'good': 358,\n",
       " 'bowls': 31,\n",
       " 'chipped': 46,\n",
       " 'Beautiful': 111,\n",
       " 'cup': 41,\n",
       " 'opening': 39,\n",
       " 'small': 313,\n",
       " 'worry': 3,\n",
       " 'continue': 28,\n",
       " 'shop': 14,\n",
       " 'Pier': 552,\n",
       " '1': 539,\n",
       " 'Returned': 128,\n",
       " 'two': 475,\n",
       " 'years': 286,\n",
       " 'ago': 135,\n",
       " 'thought': 246,\n",
       " 'would': 1027,\n",
       " 'look': 757,\n",
       " 'great': 403,\n",
       " 'family': 47,\n",
       " 'room': 329,\n",
       " 'Looking': 7,\n",
       " '“great”': 1,\n",
       " 'last': 282,\n",
       " 'long': 160,\n",
       " 'wood': 270,\n",
       " 'light': 384,\n",
       " 'weight': 56,\n",
       " 'glasses': 102,\n",
       " 'stick': 42,\n",
       " 'easily': 168,\n",
       " 'coasters': 9,\n",
       " 'condensation': 4,\n",
       " 'Every': 15,\n",
       " 'time': 465,\n",
       " 'pick': 44,\n",
       " 'glass': 216,\n",
       " 'coaster': 5,\n",
       " 'came': 197,\n",
       " 'chips': 25,\n",
       " 'dings': 2,\n",
       " 'falling': 150,\n",
       " 'along': 35,\n",
       " 'tables': 50,\n",
       " 'took': 143,\n",
       " 'brunt': 1,\n",
       " 'falls': 40,\n",
       " 'strips': 9,\n",
       " 'stain': 33,\n",
       " 'away': 160,\n",
       " 'part': 90,\n",
       " 'short': 84,\n",
       " 'use': 535,\n",
       " 'thing': 136,\n",
       " 'caddy': 9,\n",
       " 'stored': 12,\n",
       " 'match': 98,\n",
       " 'beautifully': 12,\n",
       " 'nice': 393,\n",
       " 'looking': 319,\n",
       " 'substantial': 12,\n",
       " 'lightweight': 16,\n",
       " 'backing': 21,\n",
       " 'prevent': 10,\n",
       " 'sliding': 9,\n",
       " 'Pretty': 47,\n",
       " 'flimsy': 84,\n",
       " 'Feels': 2,\n",
       " 'bit': 87,\n",
       " 'cheap': 309,\n",
       " 'lamp': 143,\n",
       " 'really': 438,\n",
       " 'heavy': 127,\n",
       " 'Exactly': 3,\n",
       " 'shade': 74,\n",
       " 'near': 40,\n",
       " 'white': 250,\n",
       " 'shutters': 1,\n",
       " 'brown': 98,\n",
       " 'office': 10,\n",
       " 'used': 301,\n",
       " 'hide': 10,\n",
       " 'file': 12,\n",
       " 'cabinets': 20,\n",
       " 'need': 107,\n",
       " 'moved': 19,\n",
       " 'must': 56,\n",
       " 'done': 42,\n",
       " 'carefully': 18,\n",
       " 'shutter': 1,\n",
       " 'slats': 11,\n",
       " 'attached': 31,\n",
       " 'Im': 218,\n",
       " 'afraid': 21,\n",
       " 'going': 185,\n",
       " 'better': 228,\n",
       " 'youre': 31,\n",
       " 'make': 158,\n",
       " 'product': 305,\n",
       " 'charge': 11,\n",
       " 'hefty': 2,\n",
       " 'price': 329,\n",
       " 'least': 55,\n",
       " 'sturdy': 88,\n",
       " 'enough': 202,\n",
       " 'dont': 282,\n",
       " 'end': 77,\n",
       " 'landfill': 2,\n",
       " 'within': 118,\n",
       " 'year': 260,\n",
       " 'seat': 122,\n",
       " 'cover': 79,\n",
       " 'purchased': 485,\n",
       " 'Murdock': 1,\n",
       " 'FL': 2,\n",
       " 'Friends': 3,\n",
       " 'North': 2,\n",
       " 'visited': 5,\n",
       " 'past': 56,\n",
       " 'winter': 23,\n",
       " 'quite': 75,\n",
       " 'upset': 17,\n",
       " '4': 163,\n",
       " 'four': 59,\n",
       " 'seats': 28,\n",
       " 'split': 27,\n",
       " 'people': 49,\n",
       " 'dropped': 12,\n",
       " 'metal': 86,\n",
       " 'hinges': 6,\n",
       " 'skin': 8,\n",
       " 'breakage': 4,\n",
       " 'friends': 18,\n",
       " 'college': 4,\n",
       " 'girls': 3,\n",
       " 'weights': 2,\n",
       " '110': 4,\n",
       " '120': 2,\n",
       " 'pounds': 7,\n",
       " 'find': 156,\n",
       " 'quality': 688,\n",
       " 'material': 142,\n",
       " 'discontinue': 2,\n",
       " 'selling': 8,\n",
       " 'rotten': 1,\n",
       " 'cotton': 18,\n",
       " 'wanted': 161,\n",
       " 'replace': 87,\n",
       " 'previous': 26,\n",
       " 'changed': 39,\n",
       " 'design': 166,\n",
       " 'rods': 11,\n",
       " 'yard': 16,\n",
       " 'stocks': 1,\n",
       " 'directors': 3,\n",
       " 'chairs': 337,\n",
       " 'terrible': 72,\n",
       " 'back': 539,\n",
       " 'tight': 17,\n",
       " 'saggy': 3,\n",
       " 'sense': 6,\n",
       " 'bracket': 8,\n",
       " 'holding': 25,\n",
       " 'rod': 23,\n",
       " 'wall': 77,\n",
       " 'break': 61,\n",
       " 'broken': 102,\n",
       " 'brackets': 8,\n",
       " 'allPretty': 1,\n",
       " 'drapes': 6,\n",
       " 'times': 102,\n",
       " 'day': 167,\n",
       " 'doesnt': 219,\n",
       " 'hold': 163,\n",
       " 'pictures': 73,\n",
       " 'hoops': 1,\n",
       " 'close': 107,\n",
       " 'overlap': 2,\n",
       " 'much': 500,\n",
       " 'Bought': 125,\n",
       " 'Christmas': 95,\n",
       " 'Dinner': 2,\n",
       " 'like': 1093,\n",
       " 'pitcher': 10,\n",
       " 'hoping': 75,\n",
       " 'different': 216,\n",
       " 'sizes': 14,\n",
       " 'shapes': 3,\n",
       " 'thick': 46,\n",
       " 'notches': 4,\n",
       " 'reason': 51,\n",
       " '16': 9,\n",
       " 'April': 4,\n",
       " '2017': 12,\n",
       " 'November': 8,\n",
       " 'half': 89,\n",
       " 'broke': 181,\n",
       " 'one': 1157,\n",
       " 'sitting': 101,\n",
       " 'table': 555,\n",
       " 'ice': 14,\n",
       " 'popped': 17,\n",
       " 'Next': 7,\n",
       " 'know': 104,\n",
       " 'large': 134,\n",
       " 'quadrant': 1,\n",
       " 'popping': 8,\n",
       " 'legs': 142,\n",
       " 'Pier1': 69,\n",
       " 'offer': 11,\n",
       " 'set': 216,\n",
       " 'semitones': 1,\n",
       " 'furniture': 134,\n",
       " 'collection': 20,\n",
       " 'nightstand': 14,\n",
       " 'crap': 3,\n",
       " 'drawer': 47,\n",
       " 'longer': 106,\n",
       " 'goes': 40,\n",
       " 'It’s': 166,\n",
       " 'warped': 15,\n",
       " 'pull': 31,\n",
       " 'way': 310,\n",
       " 'take': 107,\n",
       " 'completely': 143,\n",
       " '‘stand’': 1,\n",
       " 'retread': 1,\n",
       " '‘glide’': 1,\n",
       " 'everytime': 3,\n",
       " 'I’m': 143,\n",
       " 'trying': 60,\n",
       " 'shove': 2,\n",
       " 'toppling': 1,\n",
       " 'seems': 59,\n",
       " 'big': 126,\n",
       " 'whole': 81,\n",
       " 'since': 148,\n",
       " 'go': 167,\n",
       " 'every': 126,\n",
       " 'night': 58,\n",
       " 'annoying': 17,\n",
       " 'knobs': 7,\n",
       " 'provide': 12,\n",
       " 'deliver': 5,\n",
       " 'able': 100,\n",
       " 'remove': 38,\n",
       " 'drawers': 40,\n",
       " 'tried': 126,\n",
       " 'everything': 63,\n",
       " 'Nice': 46,\n",
       " 'buy': 370,\n",
       " 'dresser': 24,\n",
       " 'color': 694,\n",
       " 'cream': 42,\n",
       " 'hint': 15,\n",
       " 'yellow': 94,\n",
       " 'rather': 56,\n",
       " 'antique': 21,\n",
       " 'scented': 11,\n",
       " 'Put': 14,\n",
       " 'closet': 22,\n",
       " 'never': 224,\n",
       " 'usef': 1,\n",
       " 'lesser': 1,\n",
       " 'suddenly': 4,\n",
       " 'heard': 3,\n",
       " 'something': 163,\n",
       " 'running': 11,\n",
       " 'sounded': 5,\n",
       " 'water': 133,\n",
       " 'outer': 8,\n",
       " 'shell': 12,\n",
       " 'candle': 370,\n",
       " 'melted': 34,\n",
       " 'allowing': 2,\n",
       " 'wax': 67,\n",
       " 'pour': 7,\n",
       " 'created': 14,\n",
       " 'huge': 37,\n",
       " 'mess': 66,\n",
       " 'Dangerous': 1,\n",
       " 'aren’t': 12,\n",
       " 'paying': 9,\n",
       " 'attention': 12,\n",
       " 'cpuld': 1,\n",
       " 'wasnt': 75,\n",
       " 'fake': 48,\n",
       " 'LED': 43,\n",
       " 'flame': 21,\n",
       " 'real': 73,\n",
       " 'candles': 180,\n",
       " 'store': 509,\n",
       " 'noticed': 57,\n",
       " 'difference': 21,\n",
       " 'later': 55,\n",
       " 'ones': 113,\n",
       " 'made': 448,\n",
       " 'Germany': 1,\n",
       " 'burned': 66,\n",
       " 'evenly': 27,\n",
       " 'could': 290,\n",
       " 'Vietnam': 2,\n",
       " 'burn': 95,\n",
       " 'tends': 4,\n",
       " 'rupture': 2,\n",
       " 'allow': 10,\n",
       " 'inner': 7,\n",
       " 'makes': 74,\n",
       " 'requires': 12,\n",
       " 'trimmed': 4,\n",
       " 'order': 95,\n",
       " 'fragile': 36,\n",
       " 'first': 356,\n",
       " '2': 420,\n",
       " 'days': 172,\n",
       " '25': 8,\n",
       " 'top': 306,\n",
       " 'layer': 15,\n",
       " 'began': 45,\n",
       " 'scratch': 27,\n",
       " 'left': 85,\n",
       " 'overnight': 2,\n",
       " 'mark': 11,\n",
       " 'though': 119,\n",
       " 'durable': 30,\n",
       " 'kitchen': 71,\n",
       " 'thoroughly': 1,\n",
       " 'disappointed': 949,\n",
       " 'written': 6,\n",
       " 'review': 54,\n",
       " 'sooner': 4,\n",
       " 'didnt': 257,\n",
       " 'post': 16,\n",
       " 'reviews': 106,\n",
       " 'online': 294,\n",
       " 'purchase': 310,\n",
       " 'warn': 2,\n",
       " 'others': 74,\n",
       " 'seal': 7,\n",
       " 'tabletop': 3,\n",
       " 'LOVE': 21,\n",
       " 'Marchella': 1,\n",
       " 'dinning': 4,\n",
       " 'coat': 7,\n",
       " 'quickly': 104,\n",
       " 'hate': 17,\n",
       " 'try': 93,\n",
       " 'refinish': 2,\n",
       " 'difficult': 57,\n",
       " 'considering': 26,\n",
       " 'aged': 2,\n",
       " 'throughout': 34,\n",
       " 'nightmare': 12,\n",
       " 'replicate': 2,\n",
       " 'correctly': 39,\n",
       " 'Definitely': 35,\n",
       " 'expected': 181,\n",
       " 'weeks': 180,\n",
       " 'chipping': 19,\n",
       " 'trouble': 15,\n",
       " 'buying': 112,\n",
       " 'scratched': 27,\n",
       " 'expecting': 60,\n",
       " 'home': 223,\n",
       " 'three': 99,\n",
       " 'stools': 65,\n",
       " 'loose': 66,\n",
       " 'tools': 6,\n",
       " 'ten': 7,\n",
       " 'Sorry': 32,\n",
       " 'see': 252,\n",
       " 'issue': 53,\n",
       " 'faux': 33,\n",
       " 'leather': 89,\n",
       " 'crumbling': 4,\n",
       " 'splitting': 3,\n",
       " 'mistake': 25,\n",
       " 'twice': 47,\n",
       " 'napkin': 29,\n",
       " 'rings': 8,\n",
       " 'fox': 1,\n",
       " 'rustic': 14,\n",
       " 'thanksgiving': 4,\n",
       " 'deer': 6,\n",
       " 'antlers': 5,\n",
       " 'teak': 2,\n",
       " 'spheres': 2,\n",
       " 'th': 2,\n",
       " 'burlap': 7,\n",
       " 'cloth': 9,\n",
       " 'green': 119,\n",
       " 'napkins': 50,\n",
       " 'Could': 21,\n",
       " 'tablescapes': 1,\n",
       " 'Sooo': 2,\n",
       " 'cute': 235,\n",
       " 'lopsidedcould': 1,\n",
       " 'straightenedwe': 1,\n",
       " 'right': 172,\n",
       " 'without': 85,\n",
       " 'taking': 33,\n",
       " 'floor': 76,\n",
       " 'space': 54,\n",
       " 'ordered': 238,\n",
       " 'picked': 46,\n",
       " 'got': 326,\n",
       " 'informed': 3,\n",
       " 'anyway': 22,\n",
       " 'arrived': 141,\n",
       " 'lopsided': 8,\n",
       " 'stuck': 38,\n",
       " 'cork': 2,\n",
       " 'underneath': 46,\n",
       " 'balance': 6,\n",
       " 'didn’t': 115,\n",
       " 'want': 125,\n",
       " 'struggle': 1,\n",
       " 'car': 25,\n",
       " 'drive': 8,\n",
       " 'six': 17,\n",
       " 'received': 198,\n",
       " 'almost': 127,\n",
       " 'crackle': 4,\n",
       " 'Nothing': 17,\n",
       " 'picture': 339,\n",
       " 'bubbles': 6,\n",
       " 'black': 102,\n",
       " 'spot': 51,\n",
       " 'Going': 20,\n",
       " 'honest': 6,\n",
       " 'inside': 130,\n",
       " 'barely': 98,\n",
       " 'even': 471,\n",
       " 'another': 174,\n",
       " 'wine': 46,\n",
       " 'defective': 20,\n",
       " 'golden': 11,\n",
       " 'nothing': 139,\n",
       " 'special': 16,\n",
       " 'Use': 3,\n",
       " 'living': 67,\n",
       " 'sofa': 77,\n",
       " 'recliner': 7,\n",
       " 'classy': 6,\n",
       " 'high': 90,\n",
       " 'comfortable': 143,\n",
       " '20x20': 1,\n",
       " 'filled': 37,\n",
       " 'throw': 106,\n",
       " 'cushion': 187,\n",
       " 'Classy': 1,\n",
       " 'matches': 20,\n",
       " 'sofas': 6,\n",
       " '3': 236,\n",
       " 'rugs': 55,\n",
       " 'Ive': 133,\n",
       " 'red': 98,\n",
       " 'fuzz': 10,\n",
       " 'entire': 55,\n",
       " 'house': 101,\n",
       " 'matter': 36,\n",
       " 'vacuumed': 15,\n",
       " 'lint': 19,\n",
       " 'brush': 4,\n",
       " 'shed': 33,\n",
       " 'Together': 1,\n",
       " 'eventually': 9,\n",
       " 'lovely': 56,\n",
       " 'get': 419,\n",
       " 'semblance': 1,\n",
       " 'tangle': 5,\n",
       " 'come': 145,\n",
       " 'contact': 12,\n",
       " 'practical': 29,\n",
       " 'elegant': 12,\n",
       " 'plus': 19,\n",
       " 'job': 14,\n",
       " 'champion': 1,\n",
       " 'new': 221,\n",
       " 'bedroom': 47,\n",
       " 'Well': 19,\n",
       " 'constructed': 27,\n",
       " 'fact': 55,\n",
       " 'went': 95,\n",
       " 'printer': 2,\n",
       " 'Great': 57,\n",
       " 'exactly': 46,\n",
       " 'needed': 67,\n",
       " 'deceiving': 14,\n",
       " 'poor': 172,\n",
       " 'season': 48,\n",
       " 'placed': 47,\n",
       " 'patio': 52,\n",
       " 'started': 170,\n",
       " 'second': 97,\n",
       " 'summer': 45,\n",
       " 'blue': 184,\n",
       " 'unraveled': 22,\n",
       " 'recommend': 285,\n",
       " 'turquoise': 17,\n",
       " 'still': 191,\n",
       " 'fell': 159,\n",
       " 'hail': 1,\n",
       " 'storm': 8,\n",
       " 'holes': 82,\n",
       " 'arms': 29,\n",
       " 'totally': 48,\n",
       " 'expensive': 91,\n",
       " 'expect': 69,\n",
       " 'always': 65,\n",
       " 'felt': 35,\n",
       " '8': 53,\n",
       " 'colors': 256,\n",
       " 'cant': 113,\n",
       " 'sun': 74,\n",
       " 'unless': 76,\n",
       " 'putting': 48,\n",
       " 'area': 86,\n",
       " 'waste': 146,\n",
       " 'money': 376,\n",
       " 'bright': 118,\n",
       " 'full': 70,\n",
       " 'sunporch': 1,\n",
       " 'destroyed': 8,\n",
       " 'plastic': 131,\n",
       " 'cracks': 26,\n",
       " 'unravels': 6,\n",
       " 'trash': 22,\n",
       " 'cracking': 26,\n",
       " 'unraveling': 29,\n",
       " 'usage': 9,\n",
       " 'worth': 179,\n",
       " 'dries': 4,\n",
       " 'breaks': 17,\n",
       " 'lasted': 81,\n",
       " 'front': 115,\n",
       " 'porch': 34,\n",
       " 'Waste': 30,\n",
       " 'although': 28,\n",
       " 'junk': 24,\n",
       " '6': 107,\n",
       " 'UV': 2,\n",
       " 'rays': 1,\n",
       " 'cracked': 73,\n",
       " 'place': 115,\n",
       " 'lost': 37,\n",
       " 'weak': 41,\n",
       " 'wife': 12,\n",
       " 'overweight': 2,\n",
       " 'cannot': 89,\n",
       " 'Currently': 3,\n",
       " 'starting': 39,\n",
       " 'maybe': 47,\n",
       " 'Generally': 2,\n",
       " 'items': 67,\n",
       " 'amazed': 3,\n",
       " 'continues': 12,\n",
       " 'sell': 29,\n",
       " 'Plan': 1,\n",
       " 'lasting': 14,\n",
       " 'Buyer': 11,\n",
       " 'beware': 24,\n",
       " 'Purchased': 55,\n",
       " 'rusting': 8,\n",
       " 'bar': 27,\n",
       " 'unhappy': 23,\n",
       " 'cottagewebbing': 1,\n",
       " 'poorly': 98,\n",
       " 'spotsI': 1,\n",
       " 'paid': 66,\n",
       " 'usedhoping': 1,\n",
       " 'Love': 236,\n",
       " 'standing': 12,\n",
       " 'corner': 21,\n",
       " 'colored': 43,\n",
       " 'ball': 12,\n",
       " 'attractive': 34,\n",
       " 'stand': 118,\n",
       " 'book': 3,\n",
       " 'automatically': 5,\n",
       " 'closes': 4,\n",
       " 'deal': 20,\n",
       " 'Needed': 6,\n",
       " 'smaller': 75,\n",
       " 'bedside': 5,\n",
       " 'anything': 131,\n",
       " 'keep': 156,\n",
       " 'Cute': 39,\n",
       " 'elements': 12,\n",
       " 'upstairs': 1,\n",
       " 'deck': 54,\n",
       " 'virtually': 9,\n",
       " 'thrown': 11,\n",
       " 'pricey': 8,\n",
       " 'limited': 5,\n",
       " 'replaced': 47,\n",
       " 'webbing': 5,\n",
       " 'unfortunately': 86,\n",
       " 'construction': 28,\n",
       " 'receive': 25,\n",
       " 'frequent': 3,\n",
       " 'thin': 121,\n",
       " 'separating': 2,\n",
       " 'pealing': 2,\n",
       " 'literally': 32,\n",
       " 'range': 2,\n",
       " 'quarter': 2,\n",
       " 'thumb': 1,\n",
       " 'embarrassing': 7,\n",
       " 'soon': 57,\n",
       " 'wish': 99,\n",
       " 'lingerie': 2,\n",
       " 'chest': 17,\n",
       " 'smell': 582,\n",
       " 'awfulit': 1,\n",
       " 'June': 11,\n",
       " 'odour': 5,\n",
       " 'dissipated': 2,\n",
       " 'yet': 45,\n",
       " 'drawersit': 1,\n",
       " 'ridiculous': 14,\n",
       " 'solid': 48,\n",
       " 'hall': 5,\n",
       " 'tree': 159,\n",
       " 'Unfortunately': 153,\n",
       " 'can’t': 68,\n",
       " 'say': 108,\n",
       " 'storage': 19,\n",
       " 'baskets': 9,\n",
       " 'fall': 113,\n",
       " 'Since': 19,\n",
       " 'appears': 34,\n",
       " 'custommade': 1,\n",
       " 'slide': 26,\n",
       " 'tracks': 2,\n",
       " 'don’t': 149,\n",
       " 'check': 17,\n",
       " 'chance': 16,\n",
       " 'offers': 4,\n",
       " 'replacement': 55,\n",
       " 'case': 28,\n",
       " 'certainly': 17,\n",
       " 'give': 133,\n",
       " 'higher': 11,\n",
       " 'fluffy': 13,\n",
       " 'feel': 143,\n",
       " 'pillow': 202,\n",
       " 'flattens': 4,\n",
       " 'flat': 109,\n",
       " 'sad': 67,\n",
       " 'wont': 74,\n",
       " 'pillows': 136,\n",
       " 'Looks': 116,\n",
       " 'shape': 68,\n",
       " 'fluff': 11,\n",
       " 'chaise': 10,\n",
       " 'immediately': 87,\n",
       " 'Poor': 49,\n",
       " 'construction—': 1,\n",
       " 'Difficult': 6,\n",
       " 'together': 208,\n",
       " 'base': 112,\n",
       " 'unit': 10,\n",
       " 'self': 9,\n",
       " 'poly': 2,\n",
       " 'stone': 9,\n",
       " 'Chips': 4,\n",
       " 'easy': 72,\n",
       " 'umbrella': 56,\n",
       " 'continuously': 4,\n",
       " 'drops': 3,\n",
       " 'despite': 20,\n",
       " 'hoped': 15,\n",
       " 'shipped': 15,\n",
       " 'zillion': 1,\n",
       " 'realized': 18,\n",
       " 'fate': 1,\n",
       " 'wind': 28,\n",
       " 'picks': 6,\n",
       " 'opened': 87,\n",
       " 'appropriate': 6,\n",
       " 'pole': 19,\n",
       " 'hole': 36,\n",
       " 'properly': 68,\n",
       " 'thus': 11,\n",
       " 'tilting': 6,\n",
       " 'Cheap': 18,\n",
       " 'Based': 5,\n",
       " 'support': 34,\n",
       " 'selected': 3,\n",
       " 'kept': 81,\n",
       " 'Also': 186,\n",
       " 'little': 250,\n",
       " 'discs': 1,\n",
       " 'making': 59,\n",
       " 'crooked': 34,\n",
       " 'known': 24,\n",
       " 'work': 381,\n",
       " 'Broke': 10,\n",
       " 'havent': 12,\n",
       " 'figured': 12,\n",
       " 'move': 48,\n",
       " 'Sticks': 1,\n",
       " 'cuz': 5,\n",
       " 'wobbly': 45,\n",
       " 'loved': 242,\n",
       " 'awkward': 14,\n",
       " 'screws': 66,\n",
       " 'tightly': 6,\n",
       " 'rectangle': 2,\n",
       " 'means': 15,\n",
       " 'placement': 7,\n",
       " 'angles': 2,\n",
       " 'Although': 50,\n",
       " 'tall': 30,\n",
       " 'produce': 10,\n",
       " '9ft': 1,\n",
       " 'ceilings': 3,\n",
       " 'hours': 90,\n",
       " 'pier': 80,\n",
       " 'Two': 21,\n",
       " 'afternoon': 2,\n",
       " 'streamed': 1,\n",
       " 'ruined': 33,\n",
       " 'containers': 4,\n",
       " 'happened': 56,\n",
       " 'recently': 22,\n",
       " 'sisterinlaw': 1,\n",
       " 'brand': 42,\n",
       " 'couch': 73,\n",
       " 'soft': 115,\n",
       " 'texture': 31,\n",
       " 'However': 187,\n",
       " 'shortly': 8,\n",
       " 'seam': 21,\n",
       " 'ripped': 19,\n",
       " 'open': 80,\n",
       " 'stuffing': 20,\n",
       " 'beautiful': 422,\n",
       " 'less': 153,\n",
       " 'seams': 27,\n",
       " 'undone': 13,\n",
       " 'think': 151,\n",
       " 'purchasing': 74,\n",
       " 'Dont': 58,\n",
       " 'future': 16,\n",
       " 'JP': 1,\n",
       " 'mugs': 33,\n",
       " 'far': 70,\n",
       " 'held': 34,\n",
       " 'chip': 54,\n",
       " 'theres': 17,\n",
       " 'mug': 53,\n",
       " 'stoppers': 1,\n",
       " 'week': 157,\n",
       " 'newest': 2,\n",
       " 'stores': 30,\n",
       " 'old': 98,\n",
       " 'excited': 138,\n",
       " 'best': 43,\n",
       " 'friend': 25,\n",
       " 'I’ve': 57,\n",
       " 'finally': 30,\n",
       " 'handle': 17,\n",
       " 'sides': 52,\n",
       " 'everywhere': 49,\n",
       " 'disappointment': 78,\n",
       " 'bent': 27,\n",
       " 'factory': 2,\n",
       " 'control': 33,\n",
       " 'item': 218,\n",
       " 'trays': 10,\n",
       " 'causes': 6,\n",
       " 'touch': 49,\n",
       " 'counter': 35,\n",
       " 'cross': 2,\n",
       " 'unstable': 18,\n",
       " 'Disappointed': 129,\n",
       " 'doors': 32,\n",
       " 'Left': 5,\n",
       " 'side': 153,\n",
       " 'perfectly': 33,\n",
       " 'aligned': 5,\n",
       " 'Right': 7,\n",
       " 'predrilled': 7,\n",
       " 'screw': 43,\n",
       " 'secured': 6,\n",
       " 'assembly': 35,\n",
       " 'instructions': 48,\n",
       " 'bags': 6,\n",
       " 'parts': 30,\n",
       " 'mislabeled': 3,\n",
       " 'resolve': 3,\n",
       " 'issues': 16,\n",
       " 'Extremely': 21,\n",
       " 'blanket': 23,\n",
       " 'sadly': 28,\n",
       " 'dry': 63,\n",
       " 'clean': 103,\n",
       " 'kids': 32,\n",
       " 'gonna': 1,\n",
       " 'survive': 3,\n",
       " 'lot': 162,\n",
       " 'thinner': 12,\n",
       " 'wonder': 6,\n",
       " 'merchandiser': 1,\n",
       " 'accepting': 1,\n",
       " 'goods': 3,\n",
       " 'oval': 5,\n",
       " 'messed': 8,\n",
       " 'speaker': 1,\n",
       " 'stands': 13,\n",
       " 'shaped': 4,\n",
       " 'however': 206,\n",
       " 'lighting': 38,\n",
       " 'minimal': 14,\n",
       " 'serves': 3,\n",
       " 'accent': 27,\n",
       " 'dark': 100,\n",
       " 'declarative': 1,\n",
       " 'storing': 6,\n",
       " 'actual': 42,\n",
       " 'laundry': 10,\n",
       " 'wouldve': 7,\n",
       " 'stronger': 23,\n",
       " 'tears': 3,\n",
       " 'useless': 29,\n",
       " 'Color': 32,\n",
       " 'fades': 10,\n",
       " 'Wouldn’t': 8,\n",
       " 'sat': 56,\n",
       " 'stackable': 1,\n",
       " 'uncomfortable': 74,\n",
       " 'bad': 152,\n",
       " 'decision': 4,\n",
       " 'replacing': 22,\n",
       " 'next': 92,\n",
       " 'products': 44,\n",
       " 'line': 85,\n",
       " 'seeing': 14,\n",
       " 'grey': 52,\n",
       " 'orange': 50,\n",
       " 'Took': 19,\n",
       " 'rusty': 11,\n",
       " 'leaks': 17,\n",
       " 'around': 143,\n",
       " 'slight': 11,\n",
       " 'rust': 40,\n",
       " 'stains': 26,\n",
       " 'happen': 19,\n",
       " 'beverage': 4,\n",
       " 'tub': 5,\n",
       " 'cans': 2,\n",
       " 'sterdy': 1,\n",
       " 'liked': 72,\n",
       " 'overall': 37,\n",
       " 'appearance': 19,\n",
       " 'rain': 33,\n",
       " 'advertised': 32,\n",
       " 'indooroutdoor': 5,\n",
       " 'Door': 2,\n",
       " 'closure': 3,\n",
       " 'wicker': 50,\n",
       " 'anymore': 30,\n",
       " 'intending': 1,\n",
       " 'branches': 15,\n",
       " 'wet': 38,\n",
       " 'waffle': 1,\n",
       " 'threads': 32,\n",
       " 'shrink': 9,\n",
       " 'wash': 95,\n",
       " 'tags': 12,\n",
       " 'Cant': 18,\n",
       " 'wrinkles': 9,\n",
       " 'Like': 27,\n",
       " 'mentioned': 16,\n",
       " 'unravel': 23,\n",
       " 'zip': 2,\n",
       " 'tied': 5,\n",
       " 'bowl': 83,\n",
       " 'doesn’t': 102,\n",
       " '5': 93,\n",
       " 'spots': 47,\n",
       " 'holds': 23,\n",
       " 'tube': 2,\n",
       " 'wires': 5,\n",
       " 'rusts': 2,\n",
       " 'turned': 58,\n",
       " 'lots': 22,\n",
       " 'yellowbrown': 1,\n",
       " 'draining': 1,\n",
       " 'outdoors': 27,\n",
       " 'especially': 59,\n",
       " 'bring': 28,\n",
       " 'indoors': 16,\n",
       " 'became': 26,\n",
       " 'pad': 16,\n",
       " 'First': 40,\n",
       " 'staff': 7,\n",
       " 'Danvers': 1,\n",
       " 'couldnt': 52,\n",
       " 'awesome': 20,\n",
       " 'rusted': 20,\n",
       " 'Makes': 12,\n",
       " 'stuff': 15,\n",
       " 'wraps': 2,\n",
       " 'ring': 31,\n",
       " 'Super': 25,\n",
       " 'uncomfy': 1,\n",
       " 'unravelling': 3,\n",
       " 'outdoor': 94,\n",
       " 'basic': 2,\n",
       " 'expectations': 11,\n",
       " 'durability': 9,\n",
       " 'reasonable': 6,\n",
       " 'indoor': 13,\n",
       " 'sunroom': 7,\n",
       " 'wide': 22,\n",
       " 'swings': 6,\n",
       " 'temperature': 1,\n",
       " 'Within': 26,\n",
       " 'wrap': 17,\n",
       " 'snapped': 13,\n",
       " ...}"
      ]
     },
     "execution_count": 215,
     "metadata": {},
     "output_type": "execute_result"
    }
   ],
   "source": [
    "word_count"
   ]
  },
  {
   "cell_type": "code",
   "execution_count": 217,
   "metadata": {},
   "outputs": [
    {
     "data": {
      "text/plain": [
       "10989"
      ]
     },
     "execution_count": 217,
     "metadata": {},
     "output_type": "execute_result"
    }
   ],
   "source": [
    "len(word_count)"
   ]
  },
  {
   "cell_type": "code",
   "execution_count": 218,
   "metadata": {},
   "outputs": [
    {
     "data": {
      "text/html": [
       "<div>\n",
       "<style scoped>\n",
       "    .dataframe tbody tr th:only-of-type {\n",
       "        vertical-align: middle;\n",
       "    }\n",
       "\n",
       "    .dataframe tbody tr th {\n",
       "        vertical-align: top;\n",
       "    }\n",
       "\n",
       "    .dataframe thead th {\n",
       "        text-align: right;\n",
       "    }\n",
       "</style>\n",
       "<table border=\"1\" class=\"dataframe\">\n",
       "  <thead>\n",
       "    <tr style=\"text-align: right;\">\n",
       "      <th></th>\n",
       "      <th>0</th>\n",
       "    </tr>\n",
       "  </thead>\n",
       "  <tbody>\n",
       "    <tr>\n",
       "      <th>returned</th>\n",
       "      <td>475</td>\n",
       "    </tr>\n",
       "    <tr>\n",
       "      <th>sets</th>\n",
       "      <td>60</td>\n",
       "    </tr>\n",
       "    <tr>\n",
       "      <th>chair</th>\n",
       "      <td>482</td>\n",
       "    </tr>\n",
       "    <tr>\n",
       "      <th>covers</th>\n",
       "      <td>29</td>\n",
       "    </tr>\n",
       "    <tr>\n",
       "      <th>fithad</th>\n",
       "      <td>1</td>\n",
       "    </tr>\n",
       "  </tbody>\n",
       "</table>\n",
       "</div>"
      ],
      "text/plain": [
       "            0\n",
       "returned  475\n",
       "sets       60\n",
       "chair     482\n",
       "covers     29\n",
       "fithad      1"
      ]
     },
     "execution_count": 218,
     "metadata": {},
     "output_type": "execute_result"
    }
   ],
   "source": [
    "df = pd.DataFrame.from_dict(word_count,orient='index')\n",
    "df.head()"
   ]
  },
  {
   "cell_type": "code",
   "execution_count": 219,
   "metadata": {},
   "outputs": [],
   "source": [
    "df.reset_index(inplace = True)"
   ]
  },
  {
   "cell_type": "code",
   "execution_count": 220,
   "metadata": {},
   "outputs": [],
   "source": [
    "df.columns = ['word','freq']"
   ]
  },
  {
   "cell_type": "code",
   "execution_count": 221,
   "metadata": {},
   "outputs": [
    {
     "data": {
      "text/html": [
       "<div>\n",
       "<style scoped>\n",
       "    .dataframe tbody tr th:only-of-type {\n",
       "        vertical-align: middle;\n",
       "    }\n",
       "\n",
       "    .dataframe tbody tr th {\n",
       "        vertical-align: top;\n",
       "    }\n",
       "\n",
       "    .dataframe thead th {\n",
       "        text-align: right;\n",
       "    }\n",
       "</style>\n",
       "<table border=\"1\" class=\"dataframe\">\n",
       "  <thead>\n",
       "    <tr style=\"text-align: right;\">\n",
       "      <th></th>\n",
       "      <th>word</th>\n",
       "      <th>freq</th>\n",
       "    </tr>\n",
       "  </thead>\n",
       "  <tbody>\n",
       "    <tr>\n",
       "      <th>0</th>\n",
       "      <td>one</td>\n",
       "      <td>1157</td>\n",
       "    </tr>\n",
       "    <tr>\n",
       "      <th>1</th>\n",
       "      <td>like</td>\n",
       "      <td>1093</td>\n",
       "    </tr>\n",
       "    <tr>\n",
       "      <th>2</th>\n",
       "      <td>would</td>\n",
       "      <td>1027</td>\n",
       "    </tr>\n",
       "    <tr>\n",
       "      <th>3</th>\n",
       "      <td>disappointed</td>\n",
       "      <td>949</td>\n",
       "    </tr>\n",
       "    <tr>\n",
       "      <th>4</th>\n",
       "      <td>look</td>\n",
       "      <td>757</td>\n",
       "    </tr>\n",
       "  </tbody>\n",
       "</table>\n",
       "</div>"
      ],
      "text/plain": [
       "           word  freq\n",
       "0           one  1157\n",
       "1          like  1093\n",
       "2         would  1027\n",
       "3  disappointed   949\n",
       "4          look   757"
      ]
     },
     "execution_count": 221,
     "metadata": {},
     "output_type": "execute_result"
    }
   ],
   "source": [
    "df_word_freq = df.sort_values('freq',ascending=False).reset_index(drop=True)\n",
    "df_word_freq.head()"
   ]
  },
  {
   "cell_type": "code",
   "execution_count": 223,
   "metadata": {
    "scrolled": true
   },
   "outputs": [],
   "source": [
    "frecount_25 = df_word_freq.head(25)"
   ]
  },
  {
   "cell_type": "code",
   "execution_count": 224,
   "metadata": {},
   "outputs": [
    {
     "data": {
      "image/png": "[encoded data removed]",
      "text/plain": [
       "<Figure size 576x576 with 1 Axes>"
      ]
     },
     "metadata": {},
     "output_type": "display_data"
    }
   ],
   "source": [
    "fig, ax = plt.subplots(figsize=(8, 8))\n",
    "\n",
    "# Plot horizontal bar graph\n",
    "frecount_25.sort_values(by='freq').plot.barh(x='word',\n",
    "                      y='freq',\n",
    "                      ax=ax,\n",
    "                      color=\"purple\")\n",
    "\n",
    "ax.set_title(\"Frequency of Common Words Found in reviews\")\n",
    "\n",
    "plt.show()"
   ]
  },
  {
   "cell_type": "code",
   "execution_count": 225,
   "metadata": {},
   "outputs": [],
   "source": [
    "from nltk import bigrams"
   ]
  },
  {
   "cell_type": "code",
   "execution_count": 226,
   "metadata": {},
   "outputs": [
    {
     "data": {
      "text/plain": [
       "['returned', 'sets', 'chair', 'covers']"
      ]
     },
     "execution_count": 226,
     "metadata": {},
     "output_type": "execute_result"
    }
   ],
   "source": [
    "clean_list[0]"
   ]
  },
  {
   "cell_type": "code",
   "execution_count": 227,
   "metadata": {},
   "outputs": [
    {
     "data": {
      "text/plain": [
       "[('returned', 'sets'), ('sets', 'chair'), ('chair', 'covers')]"
      ]
     },
     "execution_count": 227,
     "metadata": {},
     "output_type": "execute_result"
    }
   ],
   "source": [
    "# Create list of lists containing bigrams\n",
    "terms_bigram = [list(bigrams(word)) for word in clean_list]\n",
    "\n",
    "# View bigrams for the first review\n",
    "terms_bigram[0]"
   ]
  },
  {
   "cell_type": "code",
   "execution_count": 228,
   "metadata": {},
   "outputs": [
    {
     "data": {
      "text/plain": [
       "'I have returned the sets of chair covers.'"
      ]
     },
     "execution_count": 228,
     "metadata": {},
     "output_type": "execute_result"
    }
   ],
   "source": [
    "lower_rating['text'][0]"
   ]
  },
  {
   "cell_type": "code",
   "execution_count": 229,
   "metadata": {},
   "outputs": [
    {
     "data": {
      "text/plain": [
       "[('fithad', 'return'),\n",
       " ('return', 'chair'),\n",
       " ('chair', 'older'),\n",
       " ('older', 'model'),\n",
       " ('model', 'wider'),\n",
       " ('wider', 'frame')]"
      ]
     },
     "execution_count": 229,
     "metadata": {},
     "output_type": "execute_result"
    }
   ],
   "source": [
    "terms_bigram[1]"
   ]
  },
  {
   "cell_type": "code",
   "execution_count": 230,
   "metadata": {},
   "outputs": [
    {
     "data": {
      "text/plain": [
       "'Did not fit-had to return. My chair was older model with wider frame. '"
      ]
     },
     "execution_count": 230,
     "metadata": {},
     "output_type": "execute_result"
    }
   ],
   "source": [
    "lower_rating['text'][1]"
   ]
  },
  {
   "cell_type": "code",
   "execution_count": 231,
   "metadata": {},
   "outputs": [],
   "source": [
    "import itertools\n",
    "import collections"
   ]
  },
  {
   "cell_type": "code",
   "execution_count": 239,
   "metadata": {},
   "outputs": [
    {
     "data": {
      "text/plain": [
       "[(('Pier', '1'), 381),\n",
       " (('waste', 'money'), 124),\n",
       " (('Pier', 'One'), 116),\n",
       " (('looks', 'like'), 101),\n",
       " (('would', 'recommend'), 95),\n",
       " (('look', 'like'), 93),\n",
       " (('poor', 'quality'), 88),\n",
       " (('put', 'together'), 78),\n",
       " (('worth', 'money'), 68),\n",
       " (('years', 'ago'), 67),\n",
       " (('nothing', 'like'), 67),\n",
       " (('thought', 'would'), 66),\n",
       " (('like', 'picture'), 65),\n",
       " (('falling', 'apart'), 65),\n",
       " (('cheaply', 'made'), 63),\n",
       " (('back', 'store'), 58),\n",
       " (('living', 'room'), 58),\n",
       " (('first', 'time'), 58),\n",
       " (('better', 'quality'), 50),\n",
       " (('love', 'look'), 49),\n",
       " (('bought', 'two'), 48),\n",
       " (('last', 'long'), 48),\n",
       " (('looks', 'great'), 48),\n",
       " (('disappointed', 'quality'), 48),\n",
       " (('looked', 'like'), 48),\n",
       " (('poorly', 'made'), 47),\n",
       " (('got', 'home'), 46),\n",
       " (('2', 'weeks'), 45),\n",
       " (('Would', 'recommend'), 45),\n",
       " (('stopped', 'working'), 45)]"
      ]
     },
     "execution_count": 239,
     "metadata": {},
     "output_type": "execute_result"
    }
   ],
   "source": [
    "# Flatten list of bigrams\n",
    "bigrams = list(itertools.chain(*terms_bigram))\n",
    "\n",
    "# Create counter of words in clean bigrams\n",
    "bigram_counts = collections.Counter(bigrams)\n",
    "\n",
    "bigram_counts.most_common(30)"
   ]
  },
  {
   "cell_type": "code",
   "execution_count": 240,
   "metadata": {},
   "outputs": [
    {
     "data": {
      "text/html": [
       "<div>\n",
       "<style scoped>\n",
       "    .dataframe tbody tr th:only-of-type {\n",
       "        vertical-align: middle;\n",
       "    }\n",
       "\n",
       "    .dataframe tbody tr th {\n",
       "        vertical-align: top;\n",
       "    }\n",
       "\n",
       "    .dataframe thead th {\n",
       "        text-align: right;\n",
       "    }\n",
       "</style>\n",
       "<table border=\"1\" class=\"dataframe\">\n",
       "  <thead>\n",
       "    <tr style=\"text-align: right;\">\n",
       "      <th></th>\n",
       "      <th>bigram</th>\n",
       "      <th>count</th>\n",
       "    </tr>\n",
       "  </thead>\n",
       "  <tbody>\n",
       "    <tr>\n",
       "      <th>0</th>\n",
       "      <td>(Pier, 1)</td>\n",
       "      <td>381</td>\n",
       "    </tr>\n",
       "    <tr>\n",
       "      <th>1</th>\n",
       "      <td>(waste, money)</td>\n",
       "      <td>124</td>\n",
       "    </tr>\n",
       "    <tr>\n",
       "      <th>2</th>\n",
       "      <td>(Pier, One)</td>\n",
       "      <td>116</td>\n",
       "    </tr>\n",
       "    <tr>\n",
       "      <th>3</th>\n",
       "      <td>(looks, like)</td>\n",
       "      <td>101</td>\n",
       "    </tr>\n",
       "    <tr>\n",
       "      <th>4</th>\n",
       "      <td>(would, recommend)</td>\n",
       "      <td>95</td>\n",
       "    </tr>\n",
       "    <tr>\n",
       "      <th>5</th>\n",
       "      <td>(look, like)</td>\n",
       "      <td>93</td>\n",
       "    </tr>\n",
       "    <tr>\n",
       "      <th>6</th>\n",
       "      <td>(poor, quality)</td>\n",
       "      <td>88</td>\n",
       "    </tr>\n",
       "    <tr>\n",
       "      <th>7</th>\n",
       "      <td>(put, together)</td>\n",
       "      <td>78</td>\n",
       "    </tr>\n",
       "    <tr>\n",
       "      <th>8</th>\n",
       "      <td>(worth, money)</td>\n",
       "      <td>68</td>\n",
       "    </tr>\n",
       "    <tr>\n",
       "      <th>9</th>\n",
       "      <td>(years, ago)</td>\n",
       "      <td>67</td>\n",
       "    </tr>\n",
       "    <tr>\n",
       "      <th>10</th>\n",
       "      <td>(nothing, like)</td>\n",
       "      <td>67</td>\n",
       "    </tr>\n",
       "    <tr>\n",
       "      <th>11</th>\n",
       "      <td>(thought, would)</td>\n",
       "      <td>66</td>\n",
       "    </tr>\n",
       "    <tr>\n",
       "      <th>12</th>\n",
       "      <td>(like, picture)</td>\n",
       "      <td>65</td>\n",
       "    </tr>\n",
       "    <tr>\n",
       "      <th>13</th>\n",
       "      <td>(falling, apart)</td>\n",
       "      <td>65</td>\n",
       "    </tr>\n",
       "    <tr>\n",
       "      <th>14</th>\n",
       "      <td>(cheaply, made)</td>\n",
       "      <td>63</td>\n",
       "    </tr>\n",
       "    <tr>\n",
       "      <th>15</th>\n",
       "      <td>(back, store)</td>\n",
       "      <td>58</td>\n",
       "    </tr>\n",
       "    <tr>\n",
       "      <th>16</th>\n",
       "      <td>(living, room)</td>\n",
       "      <td>58</td>\n",
       "    </tr>\n",
       "    <tr>\n",
       "      <th>17</th>\n",
       "      <td>(first, time)</td>\n",
       "      <td>58</td>\n",
       "    </tr>\n",
       "    <tr>\n",
       "      <th>18</th>\n",
       "      <td>(better, quality)</td>\n",
       "      <td>50</td>\n",
       "    </tr>\n",
       "    <tr>\n",
       "      <th>19</th>\n",
       "      <td>(love, look)</td>\n",
       "      <td>49</td>\n",
       "    </tr>\n",
       "    <tr>\n",
       "      <th>20</th>\n",
       "      <td>(bought, two)</td>\n",
       "      <td>48</td>\n",
       "    </tr>\n",
       "    <tr>\n",
       "      <th>21</th>\n",
       "      <td>(last, long)</td>\n",
       "      <td>48</td>\n",
       "    </tr>\n",
       "    <tr>\n",
       "      <th>22</th>\n",
       "      <td>(looks, great)</td>\n",
       "      <td>48</td>\n",
       "    </tr>\n",
       "    <tr>\n",
       "      <th>23</th>\n",
       "      <td>(disappointed, quality)</td>\n",
       "      <td>48</td>\n",
       "    </tr>\n",
       "    <tr>\n",
       "      <th>24</th>\n",
       "      <td>(looked, like)</td>\n",
       "      <td>48</td>\n",
       "    </tr>\n",
       "    <tr>\n",
       "      <th>25</th>\n",
       "      <td>(poorly, made)</td>\n",
       "      <td>47</td>\n",
       "    </tr>\n",
       "    <tr>\n",
       "      <th>26</th>\n",
       "      <td>(got, home)</td>\n",
       "      <td>46</td>\n",
       "    </tr>\n",
       "    <tr>\n",
       "      <th>27</th>\n",
       "      <td>(2, weeks)</td>\n",
       "      <td>45</td>\n",
       "    </tr>\n",
       "    <tr>\n",
       "      <th>28</th>\n",
       "      <td>(Would, recommend)</td>\n",
       "      <td>45</td>\n",
       "    </tr>\n",
       "    <tr>\n",
       "      <th>29</th>\n",
       "      <td>(stopped, working)</td>\n",
       "      <td>45</td>\n",
       "    </tr>\n",
       "  </tbody>\n",
       "</table>\n",
       "</div>"
      ],
      "text/plain": [
       "                     bigram  count\n",
       "0                 (Pier, 1)    381\n",
       "1            (waste, money)    124\n",
       "2               (Pier, One)    116\n",
       "3             (looks, like)    101\n",
       "4        (would, recommend)     95\n",
       "5              (look, like)     93\n",
       "6           (poor, quality)     88\n",
       "7           (put, together)     78\n",
       "8            (worth, money)     68\n",
       "9              (years, ago)     67\n",
       "10          (nothing, like)     67\n",
       "11         (thought, would)     66\n",
       "12          (like, picture)     65\n",
       "13         (falling, apart)     65\n",
       "14          (cheaply, made)     63\n",
       "15            (back, store)     58\n",
       "16           (living, room)     58\n",
       "17            (first, time)     58\n",
       "18        (better, quality)     50\n",
       "19             (love, look)     49\n",
       "20            (bought, two)     48\n",
       "21             (last, long)     48\n",
       "22           (looks, great)     48\n",
       "23  (disappointed, quality)     48\n",
       "24           (looked, like)     48\n",
       "25           (poorly, made)     47\n",
       "26              (got, home)     46\n",
       "27               (2, weeks)     45\n",
       "28       (Would, recommend)     45\n",
       "29       (stopped, working)     45"
      ]
     },
     "execution_count": 240,
     "metadata": {},
     "output_type": "execute_result"
    }
   ],
   "source": [
    "bigram_df = pd.DataFrame(bigram_counts.most_common(30),\n",
    "                             columns=['bigram', 'count'])\n",
    "\n",
    "bigram_df"
   ]
  },
  {
   "cell_type": "code",
   "execution_count": 243,
   "metadata": {},
   "outputs": [
    {
     "data": {
      "image/png": "[encoded data removed]",
      "text/plain": [
       "<Figure size 720x720 with 1 Axes>"
      ]
     },
     "metadata": {},
     "output_type": "display_data"
    }
   ],
   "source": [
    "fig, ax = plt.subplots(figsize=(10, 10))\n",
    "\n",
    "# Plot horizontal bar graph\n",
    "bigram_df.sort_values(by='count').plot.barh(x='bigram',\n",
    "                      y='count',\n",
    "                      ax=ax,\n",
    "                      color=\"purple\")\n",
    "\n",
    "ax.set_title(\"Common Words Found in reviews\")\n",
    "\n",
    "plt.show()"
   ]
  },
  {
   "cell_type": "code",
   "execution_count": 244,
   "metadata": {},
   "outputs": [],
   "source": [
    "import re\n",
    "import networkx as nx\n",
    "\n",
    "import warnings\n",
    "warnings.filterwarnings(\"ignore\")\n",
    "\n",
    "sns.set(font_scale=1)\n",
    "sns.set_style(\"whitegrid\")"
   ]
  },
  {
   "cell_type": "code",
   "execution_count": 261,
   "metadata": {},
   "outputs": [
    {
     "data": {
      "image/png": "[encoded data removed]",
      "text/plain": [
       "<Figure size 1152x864 with 1 Axes>"
      ]
     },
     "metadata": {},
     "output_type": "display_data"
    }
   ],
   "source": [
    "\n",
    "# Create dictionary of bigrams and their counts\n",
    "d = bigram_df.set_index('bigram').T.to_dict('records')\n",
    "# Create network plot \n",
    "G = nx.Graph()\n",
    "\n",
    "# Create connections between nodes\n",
    "for k, v in d[0].items():\n",
    "    G.add_edge(k[0], k[1], weight=(v * 10))\n",
    "\n",
    "G.add_node(\"start\", weight=100)\n",
    "fig, ax = plt.subplots(figsize=(16, 12))\n",
    "\n",
    "pos = nx.spring_layout(G, k=1)\n",
    "\n",
    "# Plot networks\n",
    "nx.draw_networkx(G, pos,\n",
    "                 font_size=16,\n",
    "                 width=3,\n",
    "                 edge_color='grey',\n",
    "                 node_color='purple',\n",
    "                 with_labels = False,\n",
    "                 ax=ax)\n",
    "\n",
    "# Create offset labels\n",
    "for key, value in pos.items():\n",
    "    x, y = value[0]+.135, value[1]+.045\n",
    "    ax.text(x, y,\n",
    "            s=key,\n",
    "            bbox=dict(facecolor='red', alpha=0.25),\n",
    "            horizontalalignment='center', fontsize=13)\n",
    "    \n",
    "plt.show()"
   ]
  },
  {
   "cell_type": "code",
   "execution_count": 252,
   "metadata": {},
   "outputs": [],
   "source": [
    "from nltk import trigrams"
   ]
  },
  {
   "cell_type": "code",
   "execution_count": 253,
   "metadata": {},
   "outputs": [
    {
     "data": {
      "text/plain": [
       "[('returned', 'sets', 'chair'), ('sets', 'chair', 'covers')]"
      ]
     },
     "execution_count": 253,
     "metadata": {},
     "output_type": "execute_result"
    }
   ],
   "source": [
    "# Create list of lists containing trigrams\n",
    "terms_trigram = [list(trigrams(word)) for word in clean_list]\n",
    "\n",
    "# View trigrams for the first review\n",
    "terms_trigram[0]"
   ]
  },
  {
   "cell_type": "code",
   "execution_count": 255,
   "metadata": {},
   "outputs": [
    {
     "data": {
      "text/plain": [
       "[(('nothing', 'like', 'picture'), 25),\n",
       " (('looks', 'nothing', 'like'), 22),\n",
       " (('Dont', 'waste', 'money'), 20),\n",
       " (('love', 'Pier', '1'), 18),\n",
       " (('would', 'recommend', 'product'), 15),\n",
       " (('disappointed', 'Pier', '1'), 14),\n",
       " (('dining', 'room', 'table'), 14),\n",
       " (('took', 'back', 'store'), 13),\n",
       " (('2', 'years', 'ago'), 12),\n",
       " (('look', 'like', 'picture'), 12),\n",
       " (('quality', 'Pier', '1'), 11),\n",
       " (('purchased', 'Pier', '1'), 11),\n",
       " (('first', 'time', 'used'), 11),\n",
       " (('Pier', '1', 'candles'), 10),\n",
       " (('local', 'Pier', '1'), 10),\n",
       " (('look', 'anything', 'like'), 10),\n",
       " (('expected', 'better', 'quality'), 9),\n",
       " (('4', 'years', 'ago'), 9),\n",
       " (('really', 'wanted', 'love'), 9),\n",
       " (('bought', 'Pier', '1'), 8),\n",
       " (('better', 'quality', 'Pier'), 8),\n",
       " (('online', 'picked', 'store'), 8),\n",
       " (('Pier', '1', 'would'), 8),\n",
       " (('furniture', 'Pier', '1'), 8),\n",
       " (('Don’t', 'waste', 'money'), 8),\n",
       " (('Definitely', 'worth', 'money'), 8),\n",
       " (('anything', 'like', 'picture'), 8),\n",
       " (('much', 'better', 'quality'), 7),\n",
       " (('3', 'years', 'ago'), 7),\n",
       " (('less', '6', 'months'), 7)]"
      ]
     },
     "execution_count": 255,
     "metadata": {},
     "output_type": "execute_result"
    }
   ],
   "source": [
    "# Flatten list of trigrams \n",
    "trigrams = list(itertools.chain(*terms_trigram))\n",
    "\n",
    "# Create counter of words in clean trigrams\n",
    "trigram_counts = collections.Counter(trigrams)\n",
    "\n",
    "trigram_counts.most_common(30)"
   ]
  },
  {
   "cell_type": "code",
   "execution_count": 256,
   "metadata": {},
   "outputs": [
    {
     "data": {
      "text/html": [
       "<div>\n",
       "<style scoped>\n",
       "    .dataframe tbody tr th:only-of-type {\n",
       "        vertical-align: middle;\n",
       "    }\n",
       "\n",
       "    .dataframe tbody tr th {\n",
       "        vertical-align: top;\n",
       "    }\n",
       "\n",
       "    .dataframe thead th {\n",
       "        text-align: right;\n",
       "    }\n",
       "</style>\n",
       "<table border=\"1\" class=\"dataframe\">\n",
       "  <thead>\n",
       "    <tr style=\"text-align: right;\">\n",
       "      <th></th>\n",
       "      <th>trigram</th>\n",
       "      <th>count</th>\n",
       "    </tr>\n",
       "  </thead>\n",
       "  <tbody>\n",
       "    <tr>\n",
       "      <th>0</th>\n",
       "      <td>(nothing, like, picture)</td>\n",
       "      <td>25</td>\n",
       "    </tr>\n",
       "    <tr>\n",
       "      <th>1</th>\n",
       "      <td>(looks, nothing, like)</td>\n",
       "      <td>22</td>\n",
       "    </tr>\n",
       "    <tr>\n",
       "      <th>2</th>\n",
       "      <td>(Dont, waste, money)</td>\n",
       "      <td>20</td>\n",
       "    </tr>\n",
       "    <tr>\n",
       "      <th>3</th>\n",
       "      <td>(love, Pier, 1)</td>\n",
       "      <td>18</td>\n",
       "    </tr>\n",
       "    <tr>\n",
       "      <th>4</th>\n",
       "      <td>(would, recommend, product)</td>\n",
       "      <td>15</td>\n",
       "    </tr>\n",
       "    <tr>\n",
       "      <th>5</th>\n",
       "      <td>(disappointed, Pier, 1)</td>\n",
       "      <td>14</td>\n",
       "    </tr>\n",
       "    <tr>\n",
       "      <th>6</th>\n",
       "      <td>(dining, room, table)</td>\n",
       "      <td>14</td>\n",
       "    </tr>\n",
       "    <tr>\n",
       "      <th>7</th>\n",
       "      <td>(took, back, store)</td>\n",
       "      <td>13</td>\n",
       "    </tr>\n",
       "    <tr>\n",
       "      <th>8</th>\n",
       "      <td>(2, years, ago)</td>\n",
       "      <td>12</td>\n",
       "    </tr>\n",
       "    <tr>\n",
       "      <th>9</th>\n",
       "      <td>(look, like, picture)</td>\n",
       "      <td>12</td>\n",
       "    </tr>\n",
       "    <tr>\n",
       "      <th>10</th>\n",
       "      <td>(quality, Pier, 1)</td>\n",
       "      <td>11</td>\n",
       "    </tr>\n",
       "    <tr>\n",
       "      <th>11</th>\n",
       "      <td>(purchased, Pier, 1)</td>\n",
       "      <td>11</td>\n",
       "    </tr>\n",
       "    <tr>\n",
       "      <th>12</th>\n",
       "      <td>(first, time, used)</td>\n",
       "      <td>11</td>\n",
       "    </tr>\n",
       "    <tr>\n",
       "      <th>13</th>\n",
       "      <td>(Pier, 1, candles)</td>\n",
       "      <td>10</td>\n",
       "    </tr>\n",
       "    <tr>\n",
       "      <th>14</th>\n",
       "      <td>(local, Pier, 1)</td>\n",
       "      <td>10</td>\n",
       "    </tr>\n",
       "    <tr>\n",
       "      <th>15</th>\n",
       "      <td>(look, anything, like)</td>\n",
       "      <td>10</td>\n",
       "    </tr>\n",
       "    <tr>\n",
       "      <th>16</th>\n",
       "      <td>(expected, better, quality)</td>\n",
       "      <td>9</td>\n",
       "    </tr>\n",
       "    <tr>\n",
       "      <th>17</th>\n",
       "      <td>(4, years, ago)</td>\n",
       "      <td>9</td>\n",
       "    </tr>\n",
       "    <tr>\n",
       "      <th>18</th>\n",
       "      <td>(really, wanted, love)</td>\n",
       "      <td>9</td>\n",
       "    </tr>\n",
       "    <tr>\n",
       "      <th>19</th>\n",
       "      <td>(bought, Pier, 1)</td>\n",
       "      <td>8</td>\n",
       "    </tr>\n",
       "    <tr>\n",
       "      <th>20</th>\n",
       "      <td>(better, quality, Pier)</td>\n",
       "      <td>8</td>\n",
       "    </tr>\n",
       "    <tr>\n",
       "      <th>21</th>\n",
       "      <td>(online, picked, store)</td>\n",
       "      <td>8</td>\n",
       "    </tr>\n",
       "    <tr>\n",
       "      <th>22</th>\n",
       "      <td>(Pier, 1, would)</td>\n",
       "      <td>8</td>\n",
       "    </tr>\n",
       "    <tr>\n",
       "      <th>23</th>\n",
       "      <td>(furniture, Pier, 1)</td>\n",
       "      <td>8</td>\n",
       "    </tr>\n",
       "    <tr>\n",
       "      <th>24</th>\n",
       "      <td>(Don’t, waste, money)</td>\n",
       "      <td>8</td>\n",
       "    </tr>\n",
       "    <tr>\n",
       "      <th>25</th>\n",
       "      <td>(Definitely, worth, money)</td>\n",
       "      <td>8</td>\n",
       "    </tr>\n",
       "    <tr>\n",
       "      <th>26</th>\n",
       "      <td>(anything, like, picture)</td>\n",
       "      <td>8</td>\n",
       "    </tr>\n",
       "    <tr>\n",
       "      <th>27</th>\n",
       "      <td>(much, better, quality)</td>\n",
       "      <td>7</td>\n",
       "    </tr>\n",
       "    <tr>\n",
       "      <th>28</th>\n",
       "      <td>(3, years, ago)</td>\n",
       "      <td>7</td>\n",
       "    </tr>\n",
       "    <tr>\n",
       "      <th>29</th>\n",
       "      <td>(less, 6, months)</td>\n",
       "      <td>7</td>\n",
       "    </tr>\n",
       "  </tbody>\n",
       "</table>\n",
       "</div>"
      ],
      "text/plain": [
       "                        trigram  count\n",
       "0      (nothing, like, picture)     25\n",
       "1        (looks, nothing, like)     22\n",
       "2          (Dont, waste, money)     20\n",
       "3               (love, Pier, 1)     18\n",
       "4   (would, recommend, product)     15\n",
       "5       (disappointed, Pier, 1)     14\n",
       "6         (dining, room, table)     14\n",
       "7           (took, back, store)     13\n",
       "8               (2, years, ago)     12\n",
       "9         (look, like, picture)     12\n",
       "10           (quality, Pier, 1)     11\n",
       "11         (purchased, Pier, 1)     11\n",
       "12          (first, time, used)     11\n",
       "13           (Pier, 1, candles)     10\n",
       "14             (local, Pier, 1)     10\n",
       "15       (look, anything, like)     10\n",
       "16  (expected, better, quality)      9\n",
       "17              (4, years, ago)      9\n",
       "18       (really, wanted, love)      9\n",
       "19            (bought, Pier, 1)      8\n",
       "20      (better, quality, Pier)      8\n",
       "21      (online, picked, store)      8\n",
       "22             (Pier, 1, would)      8\n",
       "23         (furniture, Pier, 1)      8\n",
       "24        (Don’t, waste, money)      8\n",
       "25   (Definitely, worth, money)      8\n",
       "26    (anything, like, picture)      8\n",
       "27      (much, better, quality)      7\n",
       "28              (3, years, ago)      7\n",
       "29            (less, 6, months)      7"
      ]
     },
     "execution_count": 256,
     "metadata": {},
     "output_type": "execute_result"
    }
   ],
   "source": [
    "trigram_df = pd.DataFrame(trigram_counts.most_common(30),\n",
    "                             columns=['trigram', 'count'])\n",
    "\n",
    "trigram_df"
   ]
  },
  {
   "cell_type": "code",
   "execution_count": 257,
   "metadata": {},
   "outputs": [
    {
     "data": {
      "image/png": "[encoded data removed]",
      "text/plain": [
       "<Figure size 720x720 with 1 Axes>"
      ]
     },
     "metadata": {},
     "output_type": "display_data"
    }
   ],
   "source": [
    "fig, ax = plt.subplots(figsize=(10, 10))\n",
    "\n",
    "# Plot horizontal bar graph\n",
    "trigram_df.sort_values(by='count').plot.barh(x='trigram',\n",
    "                      y='count',\n",
    "                      ax=ax,\n",
    "                      color=\"purple\")\n",
    "\n",
    "ax.set_title(\"Common Tri-grams Words Found in reviews\")\n",
    "\n",
    "plt.show()"
   ]
  },
  {
   "cell_type": "code",
   "execution_count": null,
   "metadata": {},
   "outputs": [],
   "source": []
  }
 ],
 "metadata": {
  "kernelspec": {
   "display_name": "Python 3",
   "language": "python",
   "name": "python3"
  },
  "language_info": {
   "codemirror_mode": {
    "name": "ipython",
    "version": 3
   },
   "file_extension": ".py",
   "mimetype": "text/x-python",
   "name": "python",
   "nbconvert_exporter": "python",
   "pygments_lexer": "ipython3",
   "version": "3.7.2"
  }
 },
 "nbformat": 4,
 "nbformat_minor": 2
}
